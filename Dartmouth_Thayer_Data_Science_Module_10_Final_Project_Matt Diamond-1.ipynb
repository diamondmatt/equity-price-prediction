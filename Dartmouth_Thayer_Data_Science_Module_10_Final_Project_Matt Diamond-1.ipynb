{
 "cells": [
  {
   "cell_type": "markdown",
   "metadata": {},
   "source": [
    "<img src=\"https://s3.amazonaws.com/ByC_logo_prod/unit-26963.jpg\" alt=\"Alt text that describes the graphic\" width=\"600\" />"
   ]
  },
  {
   "cell_type": "markdown",
   "metadata": {},
   "source": [
    "# Equity Markets Amid COVID-19: How Can Consumer Discretionary Stock Prices be Predicted During a Pandemic?"
   ]
  },
  {
   "cell_type": "markdown",
   "metadata": {},
   "source": [
    "# Table of contents\n",
    "\n",
    "- [Abstract](#Abstract)\n",
    "- [Introduction](#Introduction)\n",
    "- [1. The problem](#1.-The-problem)\n",
    "- [2. Purpose of the study](#2.-Purpose-of-the-study)\n",
    "- [3. Project description](#3.-Project-description)\n",
    "    - [3.1 Hypothesis](#3.1-Hypothesis)\n",
    "    - [3.2 Workflow](#3.2-Workflow)\n",
    "    - [3.3 Methods](#3.3-Methods)\n",
    "    - [3.4 Analysis](#3.4-Analysis)\n",
    "    - [3.5 Results](#3.5-Results)\n",
    "- [Conclusion](#Conclusion)\n",
    "- [References](#References)"
   ]
  },
  {
   "cell_type": "markdown",
   "metadata": {},
   "source": [
    "##  Abstract\n",
    "To better understand drivers of US consumer discretionary stock performance during COVID-19, linear regression was used to determine strength of relationships between US consumer discretionary equities and two groups of factors--1) US consumer sentiment and aggregate consumer spending measures and 2) categories of US payment card spending growth. Such regression was also used to detect a potential relationship between United States COVID-19 case counts and consumer discretionary equity prices. Hypotheses held 1) that payment card spending data would better determine equity prices than consumer sentiment and aggregate personal consumption expenditure and 2) that COVID-19 case counts would better determine equity prices than payment card spending data, given the frequency of COVID-19 case updates and lag in consumer spending data publication. Sentiment, aggregated personal consumption, COVID-19 case measure, payment card spending and stock performance data were collected from reputable sources. Results suggested that the first hypothesis be affirmed as the coefficient of determination between payment card spending data in five better explained consumer discretionary equity price movements than did sentiment and personal consumption measures. The study's results rejected the second hypothesis, however, as the same measure suggested lesser explanation of equity movements by COVID-19 case data than by payment card spending data. Overall, the study suggests that payment card spending data, while published less frequently than COVID-19 case counts, better explain equity price movements during the COVID-19's initial effect on the United States in January to April 2020, but validating predictions of future XLY equity remain uncompleted due to lack of recent data avaialbility at the time of study completion. The models' utility could be improved with consideration of upcoming monthly publication consumer sentiment and aggregate spending measures."
   ]
  },
  {
   "cell_type": "markdown",
   "metadata": {},
   "source": [
    "## Introduction"
   ]
  },
  {
   "cell_type": "markdown",
   "metadata": {},
   "source": [
    "The study explains movements in consumer discretionary stock prices via four different sources of information consumed by public stock market investors: consumer sentiment data, personal consumption expenditure measures, payment card spending data and COVID-19 case data. (A public stock market is the aggregation of buyers and sellers of public stocks, which represent ownership claims on businesses made available for investment by the general public.) Such information was pulled from public and private databases, cleaned, and aggregated with consumer discretionary equity prices, and coefficients of determination were calculated for each of the aforementioned variable groups and closing prices of a broad-based equity investment instrument pertaining to consumer discretionary stocks.   "
   ]
  },
  {
   "cell_type": "markdown",
   "metadata": {},
   "source": [
    "## 1. The problem\n",
    "\n",
    "Despite a raft of computing technology, unstructured data and liquidity, many retail (i.e., non-institutional, non-professional) investors lack the insight to make intuitively actionable & sensible investment decisions using online stock buying and selling platforms (e.g., Etrade, Ameritrade) likely used by American investors (55% of all Americans invest in the stock market, according to Statista). Data science was employed to compare the strength of two seemingly deterministic relationships, that between general economic indicators available to the public--US consumer sentiment and aggregate public consumption expenditure--and consumer discretionary equities and that between payment card spending data available to professional investors and such equities. In doing so, it offered individual investors a clearer understanding of stock price movements during the COVID-19 pandemic and potentially reduced the inherent uncertainty and risk of equity investment. \n",
    "\n",
    "[Back to top](#Table-of-contents)"
   ]
  },
  {
   "cell_type": "markdown",
   "metadata": {},
   "source": [
    "## 2. Purpose of the study\n",
    "\n",
    "This project attempts to explain price movement for a basket of consumer-discretionary-spend focused equities during the United States' 2020 economic slowdown induced by the COVID-19 pandemic and largely nationwide shelter-in-place. Improving the accuracy of equity market forecasts available to individual investors, the project sheds definitive light on deterministic variables to explain movement in equity prices. In doing so, it aims to better educate individual investors as to investment decisions concerning consumer discretionary stocks and, perhaps more generally, the broad-based equity market (e.g., the Standard & Poor's 500 index).\n",
    "\n",
    "[Back to top](#Table-of-contents)"
   ]
  },
  {
   "cell_type": "markdown",
   "metadata": {},
   "source": [
    "## 3. Project description\n",
    "[Back to top](#Table-of-contents)"
   ]
  },
  {
   "cell_type": "markdown",
   "metadata": {},
   "source": [
    "The project determined the strength of three relationships between consumer attitudes & spending patterns and stock price movements: 1) between both United States consumer sentiment & aggregate personal consumption and consumer discretionary stock prices, 2) between COVID-19 cases in the United States and consumer discretionary stock prices, and 3) between payment card spending data and such stocks. Operational definitions of such variables are provided below."
   ]
  },
  {
   "cell_type": "markdown",
   "metadata": {},
   "source": [
    "##### Consumer Sentiment Measure: University of Michigan Consumer Sentiment Index\n",
    "The University of Michigan Consumer Sentiment Index was used as a measure of consumer sentiment within the United States. Published monthly, the Index is comprised of results from at least 500 telephone interviews of US individuals gauging views on their personal financial situations, the short-term general economy and the long-term general economy (e.g., respondents are asked, \"... turning to business conditions in the country as a whole--do you think that during the next twelve months we'll have good times financially, or bad times, or what?\"). The Index purports to gauge near-time consumer attitudes on the business climate, personal finance, and spending. "
   ]
  },
  {
   "cell_type": "markdown",
   "metadata": {},
   "source": [
    "##### Aggregate Consumption Measure: Federal Reserve Personal Consumption Expenditure Data\n",
    "Aggregate personal consumption expenditure was measured through United States consumer personal consumption expenditure information provided by Federal Reserve Bank of St. Louis. The information reflects Personal Consumption Expenditure (PCE)  across the United States, compiled by the United States Bureau of Economic Analysis and published monthly for public viewing.     "
   ]
  },
  {
   "cell_type": "markdown",
   "metadata": {},
   "source": [
    "##### COVID-19 Cases: World Health Organization Data\n",
    "Daily COVID-19 case and death tallies were collected from the World Health Organization (WHO). The WHO provides publicly available daily publication of new and cumulative COVID-19 cases and deaths by country. "
   ]
  },
  {
   "cell_type": "markdown",
   "metadata": {},
   "source": [
    "##### Payment Card Spending Growth: Bloomberg Monthly Tabulations"
   ]
  },
  {
   "cell_type": "markdown",
   "metadata": {},
   "source": [
    "Payment card spending growth data were used as an alternative measure of consumer expenditure. Tabulated monthly by Bloomberg, such data show year-on-year growth in payment card dollar volumes categorized according to different consumer needs and desires (e.g., groceries and sports apparel, respectively). Such data are available for download to all Bloomberg Terminal subscribers."
   ]
  },
  {
   "cell_type": "markdown",
   "metadata": {},
   "source": [
    "##### Consumer Discretionary Stocks: Consumer Discretionary Select SPDR Fund (ticker \"XLY\")"
   ]
  },
  {
   "cell_type": "markdown",
   "metadata": {},
   "source": [
    "Consumer discretinary stock prices were measured by the daily closing prices of the Consumer Discretionary Select SPDR Fund, traded as \"XLY\" in public equity markets. An exchange-traded fund (ETF), or a fund investing in a basket of selected equities, the XLY pulls its holdings from the Standard & Poor's 500 Index, a widely accepted proxy for the United States stock market. Simply put, the fund is widely accepted as a broad-based index of consumer-discretionary focused equities. XLY's 25 top holdings are outlined below:\n",
    "\n",
    "|Ticker|Company Name|Percentage of Fund Holdings\n",
    "|-----|------|-----\n",
    "|AMZN | Amazon.com Inc | 23.93%\n",
    "|HD|Home Depot Inc|12.45%\n",
    "|MCD|Mcdonald's Corp|6.48%\n",
    "|NKE|Nike Inc|5.73%\n",
    "|LOW|Lowe's Companies Inc|4.73%\n",
    "|SBUX|Starbucks Corp|4.09%\n",
    "|BKNG|Booking Holdings Inc|3.10%\n",
    "|TJX|TJX Companies Inc|2.94%\n",
    "|TGT|Target Corp|2.85%\n",
    "|DG|Dollar General Corp|2.25%\n",
    "|GM|General Motors Co|1.54%\n",
    "|EBAY|eBay Inc|1.51%\n",
    "|ROST|Ross Stores Inc|1.50%\n",
    "|ORLY|O'Reilly Automotive Inc|1.48%\n",
    "|CMG|Chipotle Mexican Grill Inc|1.28%"
   ]
  },
  {
   "cell_type": "markdown",
   "metadata": {},
   "source": [
    "### 3.1 Hypothesis\n",
    "\n",
    "Asking \"Are consumer discretionary stock prices best predicted by sentiment and general consumption, by payment card transactions, or by COVID-19 cases?\", I hypothesize that movement of a basket of equities characterized by consumer spending, the Consumer Discretionary Select SPDR Fund (ticker: XLY), is better explained by measures of payment card spending in the United States than by changes in consumer sentiment and total aggregated personal consumption expenditure (excluding food & energy) in the country. Additionally, I theorize that COVID-19 case counts in the United States hold greater explanatory value in consumer equity prices than do monthly payment card spending measures.\n",
    "\n",
    "Put more simply, I propose the following equations hold true:\n",
    "\n",
    "$$ R^2(Payment Card Spending, XLY) > R^2(Consumer Sentiment and Personal Consumption, XLY)$$\n",
    "\n",
    "$$ R^2(Covid Cases, XLY) > R^2(Payment Card Spending, XLY)$$\n",
    "\n",
    "\n",
    "[Back to top](#Table-of-contents)"
   ]
  },
  {
   "cell_type": "markdown",
   "metadata": {},
   "source": [
    "#### 3.1.1 Assumptions\n",
    "\n",
    "In hypothesizing above, the following assumptions were made:\n",
    "- An intersection exists between aggregate United States consumer spending and XLY equity prices\n",
    "- A majority of consumer spending occurs via electronic payment card\n",
    "- Shifts in consumer spending patterns will reflect in both personal consumption expenditure and payment card data"
   ]
  },
  {
   "cell_type": "markdown",
   "metadata": {},
   "source": [
    "### 3.2 Workflow\n",
    "\n",
    "[Back to top](#Table-of-contents)"
   ]
  },
  {
   "cell_type": "markdown",
   "metadata": {},
   "source": [
    "#### Define the problem"
   ]
  },
  {
   "cell_type": "markdown",
   "metadata": {},
   "source": [
    "Counterintuitively, the price of a basket of discretionary consumer equities, the XLY exchange-traded fund (ETF), has risen +46% from  March 18 - June 24, 2020, materially rebounding from its lowest price of the year preceding the United States' nationwide shutdown of nearly all economic activity. While broad measures of US consumer sentiment and personal consumption reflect the nationwide stoppage, the fund's recent performance begs predictive variables so as to help investors determine future investment in the fund. \n",
    "\n",
    "Dollar volume growth in certain consumer spending categories could serve as these variables, and data science can be used to determine the strength of a potential predictive relationship between spending categories and XLY's price movement. As a result, individual investors can monitor these spending categories to determine the fairness of XLY's public market valuation and better inform their investment decision as to the fund."
   ]
  },
  {
   "cell_type": "markdown",
   "metadata": {},
   "source": [
    "#### Mapping the system"
   ]
  },
  {
   "cell_type": "markdown",
   "metadata": {},
   "source": [
    "##### Importing necessary libraries\n",
    "The below libraries were chosen to best aggregate and organize the data for analyses. Scikit-learn's Linear Regression model and RFE were used to calculate and optimize coefficients of determination."
   ]
  },
  {
   "cell_type": "code",
   "execution_count": 267,
   "metadata": {},
   "outputs": [],
   "source": [
    "import pandas as pd\n",
    "import numpy as np\n",
    "import matplotlib.pyplot as plt\n",
    "from scipy import stats\n",
    "import warnings\n",
    "warnings.filterwarnings('ignore')\n",
    "%matplotlib inline\n",
    "from sklearn import linear_model\n",
    "from sklearn.feature_selection import RFE"
   ]
  },
  {
   "cell_type": "markdown",
   "metadata": {},
   "source": [
    "##### Importing and cleaning University of Michigan Consumer Sentiment data"
   ]
  },
  {
   "cell_type": "code",
   "execution_count": 268,
   "metadata": {},
   "outputs": [],
   "source": [
    "cse = pd.read_csv('Final_Project/UMich Consumer Sentiment Data.csv',header=1)"
   ]
  },
  {
   "cell_type": "markdown",
   "metadata": {},
   "source": [
    "Exploratory data analysis (EDA) was performed on the imported data."
   ]
  },
  {
   "cell_type": "code",
   "execution_count": 269,
   "metadata": {},
   "outputs": [
    {
     "data": {
      "text/html": [
       "<div>\n",
       "<style scoped>\n",
       "    .dataframe tbody tr th:only-of-type {\n",
       "        vertical-align: middle;\n",
       "    }\n",
       "\n",
       "    .dataframe tbody tr th {\n",
       "        vertical-align: top;\n",
       "    }\n",
       "\n",
       "    .dataframe thead th {\n",
       "        text-align: right;\n",
       "    }\n",
       "</style>\n",
       "<table border=\"1\" class=\"dataframe\">\n",
       "  <thead>\n",
       "    <tr style=\"text-align: right;\">\n",
       "      <th></th>\n",
       "      <th>Month</th>\n",
       "      <th>Year</th>\n",
       "      <th>Index</th>\n",
       "    </tr>\n",
       "  </thead>\n",
       "  <tbody>\n",
       "    <tr>\n",
       "      <td>0</td>\n",
       "      <td>1</td>\n",
       "      <td>2010</td>\n",
       "      <td>74.4</td>\n",
       "    </tr>\n",
       "    <tr>\n",
       "      <td>1</td>\n",
       "      <td>2</td>\n",
       "      <td>2010</td>\n",
       "      <td>73.6</td>\n",
       "    </tr>\n",
       "    <tr>\n",
       "      <td>2</td>\n",
       "      <td>3</td>\n",
       "      <td>2010</td>\n",
       "      <td>73.6</td>\n",
       "    </tr>\n",
       "    <tr>\n",
       "      <td>3</td>\n",
       "      <td>4</td>\n",
       "      <td>2010</td>\n",
       "      <td>72.2</td>\n",
       "    </tr>\n",
       "    <tr>\n",
       "      <td>4</td>\n",
       "      <td>5</td>\n",
       "      <td>2010</td>\n",
       "      <td>73.6</td>\n",
       "    </tr>\n",
       "  </tbody>\n",
       "</table>\n",
       "</div>"
      ],
      "text/plain": [
       "   Month  Year  Index\n",
       "0      1  2010   74.4\n",
       "1      2  2010   73.6\n",
       "2      3  2010   73.6\n",
       "3      4  2010   72.2\n",
       "4      5  2010   73.6"
      ]
     },
     "execution_count": 269,
     "metadata": {},
     "output_type": "execute_result"
    }
   ],
   "source": [
    "cse.head()"
   ]
  },
  {
   "cell_type": "code",
   "execution_count": 270,
   "metadata": {},
   "outputs": [
    {
     "data": {
      "text/plain": [
       "(124, 3)"
      ]
     },
     "execution_count": 270,
     "metadata": {},
     "output_type": "execute_result"
    }
   ],
   "source": [
    "cse.shape"
   ]
  },
  {
   "cell_type": "code",
   "execution_count": 271,
   "metadata": {},
   "outputs": [
    {
     "data": {
      "text/html": [
       "<div>\n",
       "<style scoped>\n",
       "    .dataframe tbody tr th:only-of-type {\n",
       "        vertical-align: middle;\n",
       "    }\n",
       "\n",
       "    .dataframe tbody tr th {\n",
       "        vertical-align: top;\n",
       "    }\n",
       "\n",
       "    .dataframe thead th {\n",
       "        text-align: right;\n",
       "    }\n",
       "</style>\n",
       "<table border=\"1\" class=\"dataframe\">\n",
       "  <thead>\n",
       "    <tr style=\"text-align: right;\">\n",
       "      <th></th>\n",
       "      <th>Month</th>\n",
       "      <th>Year</th>\n",
       "      <th>Index</th>\n",
       "    </tr>\n",
       "  </thead>\n",
       "  <tbody>\n",
       "    <tr>\n",
       "      <td>count</td>\n",
       "      <td>124.000000</td>\n",
       "      <td>124.000000</td>\n",
       "      <td>124.000000</td>\n",
       "    </tr>\n",
       "    <tr>\n",
       "      <td>mean</td>\n",
       "      <td>6.370968</td>\n",
       "      <td>2014.677419</td>\n",
       "      <td>85.655645</td>\n",
       "    </tr>\n",
       "    <tr>\n",
       "      <td>std</td>\n",
       "      <td>3.488582</td>\n",
       "      <td>3.000131</td>\n",
       "      <td>11.314781</td>\n",
       "    </tr>\n",
       "    <tr>\n",
       "      <td>min</td>\n",
       "      <td>1.000000</td>\n",
       "      <td>2010.000000</td>\n",
       "      <td>55.800000</td>\n",
       "    </tr>\n",
       "    <tr>\n",
       "      <td>25%</td>\n",
       "      <td>3.000000</td>\n",
       "      <td>2012.000000</td>\n",
       "      <td>75.250000</td>\n",
       "    </tr>\n",
       "    <tr>\n",
       "      <td>50%</td>\n",
       "      <td>6.000000</td>\n",
       "      <td>2015.000000</td>\n",
       "      <td>88.900000</td>\n",
       "    </tr>\n",
       "    <tr>\n",
       "      <td>75%</td>\n",
       "      <td>9.000000</td>\n",
       "      <td>2017.000000</td>\n",
       "      <td>95.950000</td>\n",
       "    </tr>\n",
       "    <tr>\n",
       "      <td>max</td>\n",
       "      <td>12.000000</td>\n",
       "      <td>2020.000000</td>\n",
       "      <td>101.400000</td>\n",
       "    </tr>\n",
       "  </tbody>\n",
       "</table>\n",
       "</div>"
      ],
      "text/plain": [
       "            Month         Year       Index\n",
       "count  124.000000   124.000000  124.000000\n",
       "mean     6.370968  2014.677419   85.655645\n",
       "std      3.488582     3.000131   11.314781\n",
       "min      1.000000  2010.000000   55.800000\n",
       "25%      3.000000  2012.000000   75.250000\n",
       "50%      6.000000  2015.000000   88.900000\n",
       "75%      9.000000  2017.000000   95.950000\n",
       "max     12.000000  2020.000000  101.400000"
      ]
     },
     "execution_count": 271,
     "metadata": {},
     "output_type": "execute_result"
    }
   ],
   "source": [
    "cse.describe()"
   ]
  },
  {
   "cell_type": "code",
   "execution_count": 272,
   "metadata": {},
   "outputs": [
    {
     "name": "stdout",
     "output_type": "stream",
     "text": [
      "<class 'pandas.core.frame.DataFrame'>\n",
      "RangeIndex: 124 entries, 0 to 123\n",
      "Data columns (total 3 columns):\n",
      "Month    124 non-null int64\n",
      "Year     124 non-null int64\n",
      "Index    124 non-null float64\n",
      "dtypes: float64(1), int64(2)\n",
      "memory usage: 3.0 KB\n"
     ]
    }
   ],
   "source": [
    "cse.info()"
   ]
  },
  {
   "cell_type": "markdown",
   "metadata": {},
   "source": [
    "EDA revealed the dataset contained only Month and Year values. To reconcile the data with those from other sources, a \"Day\" column was added to the dataframe. Given the Index's monthly publication, it can be safely assumed its value applies to the first day of each referenced month of publication; therefore, the \"Day\" column was populated with \"1\"."
   ]
  },
  {
   "cell_type": "code",
   "execution_count": 273,
   "metadata": {},
   "outputs": [],
   "source": [
    "cse['Day'] = 1"
   ]
  },
  {
   "cell_type": "markdown",
   "metadata": {},
   "source": [
    "A \"Date\" column--a concatenation of the \"Month\", \"Day\" and \"Year\" columns--was also added for ease of dataframe merging and data consumption by the linear regression model."
   ]
  },
  {
   "cell_type": "code",
   "execution_count": 274,
   "metadata": {},
   "outputs": [],
   "source": [
    "cse['Date'] = cse['Month'].map(str) + '/' + cse['Day'].map(str)+ '/' + cse['Year'].map(str)"
   ]
  },
  {
   "cell_type": "code",
   "execution_count": 275,
   "metadata": {},
   "outputs": [
    {
     "data": {
      "text/html": [
       "<div>\n",
       "<style scoped>\n",
       "    .dataframe tbody tr th:only-of-type {\n",
       "        vertical-align: middle;\n",
       "    }\n",
       "\n",
       "    .dataframe tbody tr th {\n",
       "        vertical-align: top;\n",
       "    }\n",
       "\n",
       "    .dataframe thead th {\n",
       "        text-align: right;\n",
       "    }\n",
       "</style>\n",
       "<table border=\"1\" class=\"dataframe\">\n",
       "  <thead>\n",
       "    <tr style=\"text-align: right;\">\n",
       "      <th></th>\n",
       "      <th>Month</th>\n",
       "      <th>Year</th>\n",
       "      <th>Index</th>\n",
       "      <th>Day</th>\n",
       "      <th>Date</th>\n",
       "    </tr>\n",
       "  </thead>\n",
       "  <tbody>\n",
       "    <tr>\n",
       "      <td>0</td>\n",
       "      <td>1</td>\n",
       "      <td>2010</td>\n",
       "      <td>74.4</td>\n",
       "      <td>1</td>\n",
       "      <td>1/1/2010</td>\n",
       "    </tr>\n",
       "    <tr>\n",
       "      <td>1</td>\n",
       "      <td>2</td>\n",
       "      <td>2010</td>\n",
       "      <td>73.6</td>\n",
       "      <td>1</td>\n",
       "      <td>2/1/2010</td>\n",
       "    </tr>\n",
       "    <tr>\n",
       "      <td>2</td>\n",
       "      <td>3</td>\n",
       "      <td>2010</td>\n",
       "      <td>73.6</td>\n",
       "      <td>1</td>\n",
       "      <td>3/1/2010</td>\n",
       "    </tr>\n",
       "    <tr>\n",
       "      <td>3</td>\n",
       "      <td>4</td>\n",
       "      <td>2010</td>\n",
       "      <td>72.2</td>\n",
       "      <td>1</td>\n",
       "      <td>4/1/2010</td>\n",
       "    </tr>\n",
       "    <tr>\n",
       "      <td>4</td>\n",
       "      <td>5</td>\n",
       "      <td>2010</td>\n",
       "      <td>73.6</td>\n",
       "      <td>1</td>\n",
       "      <td>5/1/2010</td>\n",
       "    </tr>\n",
       "  </tbody>\n",
       "</table>\n",
       "</div>"
      ],
      "text/plain": [
       "   Month  Year  Index  Day      Date\n",
       "0      1  2010   74.4    1  1/1/2010\n",
       "1      2  2010   73.6    1  2/1/2010\n",
       "2      3  2010   73.6    1  3/1/2010\n",
       "3      4  2010   72.2    1  4/1/2010\n",
       "4      5  2010   73.6    1  5/1/2010"
      ]
     },
     "execution_count": 275,
     "metadata": {},
     "output_type": "execute_result"
    }
   ],
   "source": [
    "cse.head()"
   ]
  },
  {
   "cell_type": "markdown",
   "metadata": {},
   "source": [
    "After addition of the Date column, the redundant Month, Year and Day columns were dropped and the dataframe reorganized to show Date and Index columns from left to right."
   ]
  },
  {
   "cell_type": "code",
   "execution_count": 276,
   "metadata": {},
   "outputs": [],
   "source": [
    "cse = cse.drop(['Month','Year','Day'], axis=1)\n",
    "cse = cse.reindex(columns=['Date','Index'])"
   ]
  },
  {
   "cell_type": "markdown",
   "metadata": {},
   "source": [
    "Finally, the Date column was transformed to datetime format for ease in dataframe merging and merged data sorting. "
   ]
  },
  {
   "cell_type": "code",
   "execution_count": 277,
   "metadata": {},
   "outputs": [],
   "source": [
    "cse['Date'] = pd.to_datetime(cse['Date'], infer_datetime_format=True)"
   ]
  },
  {
   "cell_type": "code",
   "execution_count": 278,
   "metadata": {},
   "outputs": [
    {
     "data": {
      "text/html": [
       "<div>\n",
       "<style scoped>\n",
       "    .dataframe tbody tr th:only-of-type {\n",
       "        vertical-align: middle;\n",
       "    }\n",
       "\n",
       "    .dataframe tbody tr th {\n",
       "        vertical-align: top;\n",
       "    }\n",
       "\n",
       "    .dataframe thead th {\n",
       "        text-align: right;\n",
       "    }\n",
       "</style>\n",
       "<table border=\"1\" class=\"dataframe\">\n",
       "  <thead>\n",
       "    <tr style=\"text-align: right;\">\n",
       "      <th></th>\n",
       "      <th>Date</th>\n",
       "      <th>Index</th>\n",
       "    </tr>\n",
       "  </thead>\n",
       "  <tbody>\n",
       "    <tr>\n",
       "      <td>0</td>\n",
       "      <td>2010-01-01</td>\n",
       "      <td>74.4</td>\n",
       "    </tr>\n",
       "    <tr>\n",
       "      <td>1</td>\n",
       "      <td>2010-02-01</td>\n",
       "      <td>73.6</td>\n",
       "    </tr>\n",
       "    <tr>\n",
       "      <td>2</td>\n",
       "      <td>2010-03-01</td>\n",
       "      <td>73.6</td>\n",
       "    </tr>\n",
       "    <tr>\n",
       "      <td>3</td>\n",
       "      <td>2010-04-01</td>\n",
       "      <td>72.2</td>\n",
       "    </tr>\n",
       "    <tr>\n",
       "      <td>4</td>\n",
       "      <td>2010-05-01</td>\n",
       "      <td>73.6</td>\n",
       "    </tr>\n",
       "  </tbody>\n",
       "</table>\n",
       "</div>"
      ],
      "text/plain": [
       "        Date  Index\n",
       "0 2010-01-01   74.4\n",
       "1 2010-02-01   73.6\n",
       "2 2010-03-01   73.6\n",
       "3 2010-04-01   72.2\n",
       "4 2010-05-01   73.6"
      ]
     },
     "execution_count": 278,
     "metadata": {},
     "output_type": "execute_result"
    }
   ],
   "source": [
    "cse.head()"
   ]
  },
  {
   "cell_type": "markdown",
   "metadata": {},
   "source": [
    "##### Importing and cleaning Federal Reserve of St. Louis Personal Consumption Data"
   ]
  },
  {
   "cell_type": "markdown",
   "metadata": {},
   "source": [
    "Personal consumption expenditure data concerning both solely goods and all goods & services excluding food & energy were uploaded to Pandas. "
   ]
  },
  {
   "cell_type": "code",
   "execution_count": 279,
   "metadata": {},
   "outputs": [],
   "source": [
    "pce = pd.read_csv('Final_Project/PCE - Goods & Ex-Food and Energy.csv')"
   ]
  },
  {
   "cell_type": "markdown",
   "metadata": {},
   "source": [
    "EDA was performed."
   ]
  },
  {
   "cell_type": "code",
   "execution_count": 280,
   "metadata": {},
   "outputs": [
    {
     "data": {
      "text/html": [
       "<div>\n",
       "<style scoped>\n",
       "    .dataframe tbody tr th:only-of-type {\n",
       "        vertical-align: middle;\n",
       "    }\n",
       "\n",
       "    .dataframe tbody tr th {\n",
       "        vertical-align: top;\n",
       "    }\n",
       "\n",
       "    .dataframe thead th {\n",
       "        text-align: right;\n",
       "    }\n",
       "</style>\n",
       "<table border=\"1\" class=\"dataframe\">\n",
       "  <thead>\n",
       "    <tr style=\"text-align: right;\">\n",
       "      <th></th>\n",
       "      <th>observation_date</th>\n",
       "      <th>PCE Goods</th>\n",
       "      <th>PCE Ex Food &amp; Energy</th>\n",
       "    </tr>\n",
       "  </thead>\n",
       "  <tbody>\n",
       "    <tr>\n",
       "      <td>0</td>\n",
       "      <td>1/1/2010</td>\n",
       "      <td>3247.6</td>\n",
       "      <td>8661.9</td>\n",
       "    </tr>\n",
       "    <tr>\n",
       "      <td>1</td>\n",
       "      <td>2/1/2010</td>\n",
       "      <td>3251.8</td>\n",
       "      <td>8687.9</td>\n",
       "    </tr>\n",
       "    <tr>\n",
       "      <td>2</td>\n",
       "      <td>3/1/2010</td>\n",
       "      <td>3299.1</td>\n",
       "      <td>8770.2</td>\n",
       "    </tr>\n",
       "    <tr>\n",
       "      <td>3</td>\n",
       "      <td>4/1/2010</td>\n",
       "      <td>3303.0</td>\n",
       "      <td>8793.7</td>\n",
       "    </tr>\n",
       "    <tr>\n",
       "      <td>4</td>\n",
       "      <td>5/1/2010</td>\n",
       "      <td>3282.9</td>\n",
       "      <td>8803.8</td>\n",
       "    </tr>\n",
       "  </tbody>\n",
       "</table>\n",
       "</div>"
      ],
      "text/plain": [
       "  observation_date  PCE Goods  PCE Ex Food & Energy\n",
       "0         1/1/2010     3247.6                8661.9\n",
       "1         2/1/2010     3251.8                8687.9\n",
       "2         3/1/2010     3299.1                8770.2\n",
       "3         4/1/2010     3303.0                8793.7\n",
       "4         5/1/2010     3282.9                8803.8"
      ]
     },
     "execution_count": 280,
     "metadata": {},
     "output_type": "execute_result"
    }
   ],
   "source": [
    "pce.head()"
   ]
  },
  {
   "cell_type": "code",
   "execution_count": 281,
   "metadata": {},
   "outputs": [
    {
     "data": {
      "text/plain": [
       "(124, 3)"
      ]
     },
     "execution_count": 281,
     "metadata": {},
     "output_type": "execute_result"
    }
   ],
   "source": [
    "pce.shape"
   ]
  },
  {
   "cell_type": "code",
   "execution_count": 282,
   "metadata": {},
   "outputs": [
    {
     "data": {
      "text/html": [
       "<div>\n",
       "<style scoped>\n",
       "    .dataframe tbody tr th:only-of-type {\n",
       "        vertical-align: middle;\n",
       "    }\n",
       "\n",
       "    .dataframe tbody tr th {\n",
       "        vertical-align: top;\n",
       "    }\n",
       "\n",
       "    .dataframe thead th {\n",
       "        text-align: right;\n",
       "    }\n",
       "</style>\n",
       "<table border=\"1\" class=\"dataframe\">\n",
       "  <thead>\n",
       "    <tr style=\"text-align: right;\">\n",
       "      <th></th>\n",
       "      <th>PCE Goods</th>\n",
       "      <th>PCE Ex Food &amp; Energy</th>\n",
       "    </tr>\n",
       "  </thead>\n",
       "  <tbody>\n",
       "    <tr>\n",
       "      <td>count</td>\n",
       "      <td>124.000000</td>\n",
       "      <td>124.000000</td>\n",
       "    </tr>\n",
       "    <tr>\n",
       "      <td>mean</td>\n",
       "      <td>3916.267742</td>\n",
       "      <td>10749.693548</td>\n",
       "    </tr>\n",
       "    <tr>\n",
       "      <td>std</td>\n",
       "      <td>366.164058</td>\n",
       "      <td>1366.480757</td>\n",
       "    </tr>\n",
       "    <tr>\n",
       "      <td>min</td>\n",
       "      <td>3247.600000</td>\n",
       "      <td>8661.900000</td>\n",
       "    </tr>\n",
       "    <tr>\n",
       "      <td>25%</td>\n",
       "      <td>3645.025000</td>\n",
       "      <td>9515.950000</td>\n",
       "    </tr>\n",
       "    <tr>\n",
       "      <td>50%</td>\n",
       "      <td>3904.150000</td>\n",
       "      <td>10604.600000</td>\n",
       "    </tr>\n",
       "    <tr>\n",
       "      <td>75%</td>\n",
       "      <td>4173.625000</td>\n",
       "      <td>11846.400000</td>\n",
       "    </tr>\n",
       "    <tr>\n",
       "      <td>max</td>\n",
       "      <td>4589.400000</td>\n",
       "      <td>13323.100000</td>\n",
       "    </tr>\n",
       "  </tbody>\n",
       "</table>\n",
       "</div>"
      ],
      "text/plain": [
       "         PCE Goods  PCE Ex Food & Energy\n",
       "count   124.000000            124.000000\n",
       "mean   3916.267742          10749.693548\n",
       "std     366.164058           1366.480757\n",
       "min    3247.600000           8661.900000\n",
       "25%    3645.025000           9515.950000\n",
       "50%    3904.150000          10604.600000\n",
       "75%    4173.625000          11846.400000\n",
       "max    4589.400000          13323.100000"
      ]
     },
     "execution_count": 282,
     "metadata": {},
     "output_type": "execute_result"
    }
   ],
   "source": [
    "pce.describe()"
   ]
  },
  {
   "cell_type": "code",
   "execution_count": 283,
   "metadata": {},
   "outputs": [
    {
     "name": "stdout",
     "output_type": "stream",
     "text": [
      "<class 'pandas.core.frame.DataFrame'>\n",
      "RangeIndex: 124 entries, 0 to 123\n",
      "Data columns (total 3 columns):\n",
      "observation_date        124 non-null object\n",
      "PCE Goods               124 non-null float64\n",
      "PCE Ex Food & Energy    124 non-null float64\n",
      "dtypes: float64(2), object(1)\n",
      "memory usage: 3.0+ KB\n"
     ]
    }
   ],
   "source": [
    "pce.info()"
   ]
  },
  {
   "cell_type": "markdown",
   "metadata": {},
   "source": [
    "EDA revealed that dates were populated in an \"observation_date\" column; this column was renamed to 'Date' for ease in datafarme merging."
   ]
  },
  {
   "cell_type": "code",
   "execution_count": 284,
   "metadata": {},
   "outputs": [],
   "source": [
    "pce = pce.rename(columns={'observation_date':'Date'})"
   ]
  },
  {
   "cell_type": "markdown",
   "metadata": {},
   "source": [
    "Additionally, the Date column was transformed to datetime format for consistency with other considered dataframes. "
   ]
  },
  {
   "cell_type": "code",
   "execution_count": 285,
   "metadata": {},
   "outputs": [],
   "source": [
    "pce['Date'] = pd.to_datetime(pce['Date'],infer_datetime_format=True)"
   ]
  },
  {
   "cell_type": "code",
   "execution_count": 286,
   "metadata": {},
   "outputs": [
    {
     "data": {
      "text/html": [
       "<div>\n",
       "<style scoped>\n",
       "    .dataframe tbody tr th:only-of-type {\n",
       "        vertical-align: middle;\n",
       "    }\n",
       "\n",
       "    .dataframe tbody tr th {\n",
       "        vertical-align: top;\n",
       "    }\n",
       "\n",
       "    .dataframe thead th {\n",
       "        text-align: right;\n",
       "    }\n",
       "</style>\n",
       "<table border=\"1\" class=\"dataframe\">\n",
       "  <thead>\n",
       "    <tr style=\"text-align: right;\">\n",
       "      <th></th>\n",
       "      <th>Date</th>\n",
       "      <th>PCE Goods</th>\n",
       "      <th>PCE Ex Food &amp; Energy</th>\n",
       "    </tr>\n",
       "  </thead>\n",
       "  <tbody>\n",
       "    <tr>\n",
       "      <td>0</td>\n",
       "      <td>2010-01-01</td>\n",
       "      <td>3247.6</td>\n",
       "      <td>8661.9</td>\n",
       "    </tr>\n",
       "    <tr>\n",
       "      <td>1</td>\n",
       "      <td>2010-02-01</td>\n",
       "      <td>3251.8</td>\n",
       "      <td>8687.9</td>\n",
       "    </tr>\n",
       "    <tr>\n",
       "      <td>2</td>\n",
       "      <td>2010-03-01</td>\n",
       "      <td>3299.1</td>\n",
       "      <td>8770.2</td>\n",
       "    </tr>\n",
       "    <tr>\n",
       "      <td>3</td>\n",
       "      <td>2010-04-01</td>\n",
       "      <td>3303.0</td>\n",
       "      <td>8793.7</td>\n",
       "    </tr>\n",
       "    <tr>\n",
       "      <td>4</td>\n",
       "      <td>2010-05-01</td>\n",
       "      <td>3282.9</td>\n",
       "      <td>8803.8</td>\n",
       "    </tr>\n",
       "  </tbody>\n",
       "</table>\n",
       "</div>"
      ],
      "text/plain": [
       "        Date  PCE Goods  PCE Ex Food & Energy\n",
       "0 2010-01-01     3247.6                8661.9\n",
       "1 2010-02-01     3251.8                8687.9\n",
       "2 2010-03-01     3299.1                8770.2\n",
       "3 2010-04-01     3303.0                8793.7\n",
       "4 2010-05-01     3282.9                8803.8"
      ]
     },
     "execution_count": 286,
     "metadata": {},
     "output_type": "execute_result"
    }
   ],
   "source": [
    "pce.head()"
   ]
  },
  {
   "cell_type": "markdown",
   "metadata": {},
   "source": [
    "##### Importing and cleaning COVID-19 case data"
   ]
  },
  {
   "cell_type": "code",
   "execution_count": 287,
   "metadata": {},
   "outputs": [],
   "source": [
    "covid = pd.read_csv('Final_Project/WHO Coronavirus Covid-19 Cases and Deaths.csv')"
   ]
  },
  {
   "cell_type": "markdown",
   "metadata": {},
   "source": [
    "EDA was performed on COVID-19 case data."
   ]
  },
  {
   "cell_type": "code",
   "execution_count": 288,
   "metadata": {},
   "outputs": [
    {
     "data": {
      "text/html": [
       "<div>\n",
       "<style scoped>\n",
       "    .dataframe tbody tr th:only-of-type {\n",
       "        vertical-align: middle;\n",
       "    }\n",
       "\n",
       "    .dataframe tbody tr th {\n",
       "        vertical-align: top;\n",
       "    }\n",
       "\n",
       "    .dataframe thead th {\n",
       "        text-align: right;\n",
       "    }\n",
       "</style>\n",
       "<table border=\"1\" class=\"dataframe\">\n",
       "  <thead>\n",
       "    <tr style=\"text-align: right;\">\n",
       "      <th></th>\n",
       "      <th>OBJECTID</th>\n",
       "      <th>ISO_2_CODE</th>\n",
       "      <th>ISO_3_CODE</th>\n",
       "      <th>ADM0_NAME</th>\n",
       "      <th>date_epicrv</th>\n",
       "      <th>NewCase</th>\n",
       "      <th>CumCase</th>\n",
       "      <th>NewDeath</th>\n",
       "      <th>CumDeath</th>\n",
       "      <th>Short_Name_ZH</th>\n",
       "      <th>Short_Name_FR</th>\n",
       "      <th>Short_Name_ES</th>\n",
       "      <th>Short_Name_RU</th>\n",
       "      <th>Short_Name_AR</th>\n",
       "    </tr>\n",
       "  </thead>\n",
       "  <tbody>\n",
       "    <tr>\n",
       "      <td>0</td>\n",
       "      <td>1</td>\n",
       "      <td>AF</td>\n",
       "      <td>AFG</td>\n",
       "      <td>Afghanistan</td>\n",
       "      <td>2020-02-24T00:00:00.000Z</td>\n",
       "      <td>1</td>\n",
       "      <td>1</td>\n",
       "      <td>0</td>\n",
       "      <td>0</td>\n",
       "      <td>阿富汗</td>\n",
       "      <td>Afghanistan</td>\n",
       "      <td>Afganistán</td>\n",
       "      <td>Афганистан</td>\n",
       "      <td>أفغانستان</td>\n",
       "    </tr>\n",
       "    <tr>\n",
       "      <td>1</td>\n",
       "      <td>2</td>\n",
       "      <td>AF</td>\n",
       "      <td>AFG</td>\n",
       "      <td>Afghanistan</td>\n",
       "      <td>2020-02-25T00:00:00.000Z</td>\n",
       "      <td>0</td>\n",
       "      <td>1</td>\n",
       "      <td>0</td>\n",
       "      <td>0</td>\n",
       "      <td>阿富汗</td>\n",
       "      <td>Afghanistan</td>\n",
       "      <td>Afganistán</td>\n",
       "      <td>Афганистан</td>\n",
       "      <td>أفغانستان</td>\n",
       "    </tr>\n",
       "    <tr>\n",
       "      <td>2</td>\n",
       "      <td>3</td>\n",
       "      <td>AF</td>\n",
       "      <td>AFG</td>\n",
       "      <td>Afghanistan</td>\n",
       "      <td>2020-02-26T00:00:00.000Z</td>\n",
       "      <td>0</td>\n",
       "      <td>1</td>\n",
       "      <td>0</td>\n",
       "      <td>0</td>\n",
       "      <td>阿富汗</td>\n",
       "      <td>Afghanistan</td>\n",
       "      <td>Afganistán</td>\n",
       "      <td>Афганистан</td>\n",
       "      <td>أفغانستان</td>\n",
       "    </tr>\n",
       "    <tr>\n",
       "      <td>3</td>\n",
       "      <td>4</td>\n",
       "      <td>AF</td>\n",
       "      <td>AFG</td>\n",
       "      <td>Afghanistan</td>\n",
       "      <td>2020-02-27T00:00:00.000Z</td>\n",
       "      <td>0</td>\n",
       "      <td>1</td>\n",
       "      <td>0</td>\n",
       "      <td>0</td>\n",
       "      <td>阿富汗</td>\n",
       "      <td>Afghanistan</td>\n",
       "      <td>Afganistán</td>\n",
       "      <td>Афганистан</td>\n",
       "      <td>أفغانستان</td>\n",
       "    </tr>\n",
       "    <tr>\n",
       "      <td>4</td>\n",
       "      <td>5</td>\n",
       "      <td>AF</td>\n",
       "      <td>AFG</td>\n",
       "      <td>Afghanistan</td>\n",
       "      <td>2020-02-28T00:00:00.000Z</td>\n",
       "      <td>0</td>\n",
       "      <td>1</td>\n",
       "      <td>0</td>\n",
       "      <td>0</td>\n",
       "      <td>阿富汗</td>\n",
       "      <td>Afghanistan</td>\n",
       "      <td>Afganistán</td>\n",
       "      <td>Афганистан</td>\n",
       "      <td>أفغانستان</td>\n",
       "    </tr>\n",
       "  </tbody>\n",
       "</table>\n",
       "</div>"
      ],
      "text/plain": [
       "   OBJECTID ISO_2_CODE ISO_3_CODE    ADM0_NAME               date_epicrv  \\\n",
       "0         1         AF        AFG  Afghanistan  2020-02-24T00:00:00.000Z   \n",
       "1         2         AF        AFG  Afghanistan  2020-02-25T00:00:00.000Z   \n",
       "2         3         AF        AFG  Afghanistan  2020-02-26T00:00:00.000Z   \n",
       "3         4         AF        AFG  Afghanistan  2020-02-27T00:00:00.000Z   \n",
       "4         5         AF        AFG  Afghanistan  2020-02-28T00:00:00.000Z   \n",
       "\n",
       "   NewCase  CumCase  NewDeath  CumDeath Short_Name_ZH Short_Name_FR  \\\n",
       "0        1        1         0         0           阿富汗   Afghanistan   \n",
       "1        0        1         0         0           阿富汗   Afghanistan   \n",
       "2        0        1         0         0           阿富汗   Afghanistan   \n",
       "3        0        1         0         0           阿富汗   Afghanistan   \n",
       "4        0        1         0         0           阿富汗   Afghanistan   \n",
       "\n",
       "  Short_Name_ES Short_Name_RU Short_Name_AR  \n",
       "0    Afganistán    Афганистан     أفغانستان  \n",
       "1    Afganistán    Афганистан     أفغانستان  \n",
       "2    Afganistán    Афганистан     أفغانستان  \n",
       "3    Afganistán    Афганистан     أفغانستان  \n",
       "4    Afganistán    Афганистан     أفغانستان  "
      ]
     },
     "execution_count": 288,
     "metadata": {},
     "output_type": "execute_result"
    }
   ],
   "source": [
    "covid.head()"
   ]
  },
  {
   "cell_type": "code",
   "execution_count": 289,
   "metadata": {},
   "outputs": [
    {
     "data": {
      "text/plain": [
       "(20214, 14)"
      ]
     },
     "execution_count": 289,
     "metadata": {},
     "output_type": "execute_result"
    }
   ],
   "source": [
    "covid.shape"
   ]
  },
  {
   "cell_type": "code",
   "execution_count": 290,
   "metadata": {},
   "outputs": [
    {
     "data": {
      "text/html": [
       "<div>\n",
       "<style scoped>\n",
       "    .dataframe tbody tr th:only-of-type {\n",
       "        vertical-align: middle;\n",
       "    }\n",
       "\n",
       "    .dataframe tbody tr th {\n",
       "        vertical-align: top;\n",
       "    }\n",
       "\n",
       "    .dataframe thead th {\n",
       "        text-align: right;\n",
       "    }\n",
       "</style>\n",
       "<table border=\"1\" class=\"dataframe\">\n",
       "  <thead>\n",
       "    <tr style=\"text-align: right;\">\n",
       "      <th></th>\n",
       "      <th>OBJECTID</th>\n",
       "      <th>NewCase</th>\n",
       "      <th>CumCase</th>\n",
       "      <th>NewDeath</th>\n",
       "      <th>CumDeath</th>\n",
       "    </tr>\n",
       "  </thead>\n",
       "  <tbody>\n",
       "    <tr>\n",
       "      <td>count</td>\n",
       "      <td>20214.000000</td>\n",
       "      <td>20214.000000</td>\n",
       "      <td>2.021400e+04</td>\n",
       "      <td>20214.000000</td>\n",
       "      <td>20214.000000</td>\n",
       "    </tr>\n",
       "    <tr>\n",
       "      <td>mean</td>\n",
       "      <td>10107.500000</td>\n",
       "      <td>336.386316</td>\n",
       "      <td>1.253049e+04</td>\n",
       "      <td>19.659048</td>\n",
       "      <td>807.802513</td>\n",
       "    </tr>\n",
       "    <tr>\n",
       "      <td>std</td>\n",
       "      <td>5835.423506</td>\n",
       "      <td>1895.385053</td>\n",
       "      <td>7.693773e+04</td>\n",
       "      <td>135.747111</td>\n",
       "      <td>5156.616333</td>\n",
       "    </tr>\n",
       "    <tr>\n",
       "      <td>min</td>\n",
       "      <td>1.000000</td>\n",
       "      <td>-2461.000000</td>\n",
       "      <td>1.000000e+00</td>\n",
       "      <td>-1918.000000</td>\n",
       "      <td>0.000000</td>\n",
       "    </tr>\n",
       "    <tr>\n",
       "      <td>25%</td>\n",
       "      <td>5054.250000</td>\n",
       "      <td>0.000000</td>\n",
       "      <td>1.900000e+01</td>\n",
       "      <td>0.000000</td>\n",
       "      <td>0.000000</td>\n",
       "    </tr>\n",
       "    <tr>\n",
       "      <td>50%</td>\n",
       "      <td>10107.500000</td>\n",
       "      <td>4.000000</td>\n",
       "      <td>2.330000e+02</td>\n",
       "      <td>0.000000</td>\n",
       "      <td>4.000000</td>\n",
       "    </tr>\n",
       "    <tr>\n",
       "      <td>75%</td>\n",
       "      <td>15160.750000</td>\n",
       "      <td>64.000000</td>\n",
       "      <td>2.042000e+03</td>\n",
       "      <td>1.000000</td>\n",
       "      <td>47.000000</td>\n",
       "    </tr>\n",
       "    <tr>\n",
       "      <td>max</td>\n",
       "      <td>20214.000000</td>\n",
       "      <td>38509.000000</td>\n",
       "      <td>1.886794e+06</td>\n",
       "      <td>6409.000000</td>\n",
       "      <td>109038.000000</td>\n",
       "    </tr>\n",
       "  </tbody>\n",
       "</table>\n",
       "</div>"
      ],
      "text/plain": [
       "           OBJECTID       NewCase       CumCase      NewDeath       CumDeath\n",
       "count  20214.000000  20214.000000  2.021400e+04  20214.000000   20214.000000\n",
       "mean   10107.500000    336.386316  1.253049e+04     19.659048     807.802513\n",
       "std     5835.423506   1895.385053  7.693773e+04    135.747111    5156.616333\n",
       "min        1.000000  -2461.000000  1.000000e+00  -1918.000000       0.000000\n",
       "25%     5054.250000      0.000000  1.900000e+01      0.000000       0.000000\n",
       "50%    10107.500000      4.000000  2.330000e+02      0.000000       4.000000\n",
       "75%    15160.750000     64.000000  2.042000e+03      1.000000      47.000000\n",
       "max    20214.000000  38509.000000  1.886794e+06   6409.000000  109038.000000"
      ]
     },
     "execution_count": 290,
     "metadata": {},
     "output_type": "execute_result"
    }
   ],
   "source": [
    "covid.describe()"
   ]
  },
  {
   "cell_type": "code",
   "execution_count": 291,
   "metadata": {},
   "outputs": [
    {
     "name": "stdout",
     "output_type": "stream",
     "text": [
      "<class 'pandas.core.frame.DataFrame'>\n",
      "RangeIndex: 20214 entries, 0 to 20213\n",
      "Data columns (total 14 columns):\n",
      "OBJECTID         20214 non-null int64\n",
      "ISO_2_CODE       20004 non-null object\n",
      "ISO_3_CODE       20090 non-null object\n",
      "ADM0_NAME        20214 non-null object\n",
      "date_epicrv      20214 non-null object\n",
      "NewCase          20214 non-null int64\n",
      "CumCase          20214 non-null int64\n",
      "NewDeath         20214 non-null int64\n",
      "CumDeath         20214 non-null int64\n",
      "Short_Name_ZH    20090 non-null object\n",
      "Short_Name_FR    17132 non-null object\n",
      "Short_Name_ES    17132 non-null object\n",
      "Short_Name_RU    17132 non-null object\n",
      "Short_Name_AR    17132 non-null object\n",
      "dtypes: int64(5), object(9)\n",
      "memory usage: 2.2+ MB\n"
     ]
    }
   ],
   "source": [
    "covid.info()"
   ]
  },
  {
   "cell_type": "markdown",
   "metadata": {},
   "source": [
    "EDA suggested the dataframe contains many observations outside of the United States. Given this study's concern with US cases, the dataframe was filtered accordingly."
   ]
  },
  {
   "cell_type": "code",
   "execution_count": 292,
   "metadata": {},
   "outputs": [],
   "source": [
    "covid_usa = covid[covid['ISO_3_CODE'] == \"USA\"]"
   ]
  },
  {
   "cell_type": "code",
   "execution_count": 293,
   "metadata": {},
   "outputs": [
    {
     "data": {
      "text/html": [
       "<div>\n",
       "<style scoped>\n",
       "    .dataframe tbody tr th:only-of-type {\n",
       "        vertical-align: middle;\n",
       "    }\n",
       "\n",
       "    .dataframe tbody tr th {\n",
       "        vertical-align: top;\n",
       "    }\n",
       "\n",
       "    .dataframe thead th {\n",
       "        text-align: right;\n",
       "    }\n",
       "</style>\n",
       "<table border=\"1\" class=\"dataframe\">\n",
       "  <thead>\n",
       "    <tr style=\"text-align: right;\">\n",
       "      <th></th>\n",
       "      <th>OBJECTID</th>\n",
       "      <th>ISO_2_CODE</th>\n",
       "      <th>ISO_3_CODE</th>\n",
       "      <th>ADM0_NAME</th>\n",
       "      <th>date_epicrv</th>\n",
       "      <th>NewCase</th>\n",
       "      <th>CumCase</th>\n",
       "      <th>NewDeath</th>\n",
       "      <th>CumDeath</th>\n",
       "      <th>Short_Name_ZH</th>\n",
       "      <th>Short_Name_FR</th>\n",
       "      <th>Short_Name_ES</th>\n",
       "      <th>Short_Name_RU</th>\n",
       "      <th>Short_Name_AR</th>\n",
       "    </tr>\n",
       "  </thead>\n",
       "  <tbody>\n",
       "    <tr>\n",
       "      <td>19375</td>\n",
       "      <td>19376</td>\n",
       "      <td>US</td>\n",
       "      <td>USA</td>\n",
       "      <td>United States of America</td>\n",
       "      <td>2020-01-20T00:00:00.000Z</td>\n",
       "      <td>1</td>\n",
       "      <td>1</td>\n",
       "      <td>0</td>\n",
       "      <td>0</td>\n",
       "      <td>美利坚合众国</td>\n",
       "      <td>États-Unis d'Amérique</td>\n",
       "      <td>Estados Unidos de América</td>\n",
       "      <td>Соединенные Штаты Америки</td>\n",
       "      <td>الولايات المتحدة الأمريكية</td>\n",
       "    </tr>\n",
       "    <tr>\n",
       "      <td>19376</td>\n",
       "      <td>19377</td>\n",
       "      <td>US</td>\n",
       "      <td>USA</td>\n",
       "      <td>United States of America</td>\n",
       "      <td>2020-01-21T00:00:00.000Z</td>\n",
       "      <td>0</td>\n",
       "      <td>1</td>\n",
       "      <td>0</td>\n",
       "      <td>0</td>\n",
       "      <td>美利坚合众国</td>\n",
       "      <td>États-Unis d'Amérique</td>\n",
       "      <td>Estados Unidos de América</td>\n",
       "      <td>Соединенные Штаты Америки</td>\n",
       "      <td>الولايات المتحدة الأمريكية</td>\n",
       "    </tr>\n",
       "    <tr>\n",
       "      <td>19377</td>\n",
       "      <td>19378</td>\n",
       "      <td>US</td>\n",
       "      <td>USA</td>\n",
       "      <td>United States of America</td>\n",
       "      <td>2020-01-22T00:00:00.000Z</td>\n",
       "      <td>0</td>\n",
       "      <td>1</td>\n",
       "      <td>0</td>\n",
       "      <td>0</td>\n",
       "      <td>美利坚合众国</td>\n",
       "      <td>États-Unis d'Amérique</td>\n",
       "      <td>Estados Unidos de América</td>\n",
       "      <td>Соединенные Штаты Америки</td>\n",
       "      <td>الولايات المتحدة الأمريكية</td>\n",
       "    </tr>\n",
       "    <tr>\n",
       "      <td>19378</td>\n",
       "      <td>19379</td>\n",
       "      <td>US</td>\n",
       "      <td>USA</td>\n",
       "      <td>United States of America</td>\n",
       "      <td>2020-01-23T00:00:00.000Z</td>\n",
       "      <td>0</td>\n",
       "      <td>1</td>\n",
       "      <td>0</td>\n",
       "      <td>0</td>\n",
       "      <td>美利坚合众国</td>\n",
       "      <td>États-Unis d'Amérique</td>\n",
       "      <td>Estados Unidos de América</td>\n",
       "      <td>Соединенные Штаты Америки</td>\n",
       "      <td>الولايات المتحدة الأمريكية</td>\n",
       "    </tr>\n",
       "    <tr>\n",
       "      <td>19379</td>\n",
       "      <td>19380</td>\n",
       "      <td>US</td>\n",
       "      <td>USA</td>\n",
       "      <td>United States of America</td>\n",
       "      <td>2020-01-24T00:00:00.000Z</td>\n",
       "      <td>1</td>\n",
       "      <td>2</td>\n",
       "      <td>0</td>\n",
       "      <td>0</td>\n",
       "      <td>美利坚合众国</td>\n",
       "      <td>États-Unis d'Amérique</td>\n",
       "      <td>Estados Unidos de América</td>\n",
       "      <td>Соединенные Штаты Америки</td>\n",
       "      <td>الولايات المتحدة الأمريكية</td>\n",
       "    </tr>\n",
       "  </tbody>\n",
       "</table>\n",
       "</div>"
      ],
      "text/plain": [
       "       OBJECTID ISO_2_CODE ISO_3_CODE                 ADM0_NAME  \\\n",
       "19375     19376         US        USA  United States of America   \n",
       "19376     19377         US        USA  United States of America   \n",
       "19377     19378         US        USA  United States of America   \n",
       "19378     19379         US        USA  United States of America   \n",
       "19379     19380         US        USA  United States of America   \n",
       "\n",
       "                    date_epicrv  NewCase  CumCase  NewDeath  CumDeath  \\\n",
       "19375  2020-01-20T00:00:00.000Z        1        1         0         0   \n",
       "19376  2020-01-21T00:00:00.000Z        0        1         0         0   \n",
       "19377  2020-01-22T00:00:00.000Z        0        1         0         0   \n",
       "19378  2020-01-23T00:00:00.000Z        0        1         0         0   \n",
       "19379  2020-01-24T00:00:00.000Z        1        2         0         0   \n",
       "\n",
       "      Short_Name_ZH          Short_Name_FR              Short_Name_ES  \\\n",
       "19375        美利坚合众国  États-Unis d'Amérique  Estados Unidos de América   \n",
       "19376        美利坚合众国  États-Unis d'Amérique  Estados Unidos de América   \n",
       "19377        美利坚合众国  États-Unis d'Amérique  Estados Unidos de América   \n",
       "19378        美利坚合众国  États-Unis d'Amérique  Estados Unidos de América   \n",
       "19379        美利坚合众国  États-Unis d'Amérique  Estados Unidos de América   \n",
       "\n",
       "                   Short_Name_RU                Short_Name_AR  \n",
       "19375  Соединенные Штаты Америки  الولايات المتحدة الأمريكية   \n",
       "19376  Соединенные Штаты Америки  الولايات المتحدة الأمريكية   \n",
       "19377  Соединенные Штаты Америки  الولايات المتحدة الأمريكية   \n",
       "19378  Соединенные Штаты Америки  الولايات المتحدة الأمريكية   \n",
       "19379  Соединенные Штаты Америки  الولايات المتحدة الأمريكية   "
      ]
     },
     "execution_count": 293,
     "metadata": {},
     "output_type": "execute_result"
    }
   ],
   "source": [
    "covid_usa.head()"
   ]
  },
  {
   "cell_type": "markdown",
   "metadata": {},
   "source": [
    "Unnecessary columns not pertaining to quantifiable case data were dropped."
   ]
  },
  {
   "cell_type": "code",
   "execution_count": 294,
   "metadata": {},
   "outputs": [],
   "source": [
    "covid_usa = covid_usa.drop(['OBJECTID','ISO_2_CODE','ISO_3_CODE','ADM0_NAME','Short_Name_ZH','Short_Name_FR',\n",
    "                            'Short_Name_ES','Short_Name_RU','Short_Name_AR'],axis=1)"
   ]
  },
  {
   "cell_type": "markdown",
   "metadata": {},
   "source": [
    "The \"date_epicrv\" column was renamed \"Date\" for ease of reference."
   ]
  },
  {
   "cell_type": "code",
   "execution_count": 295,
   "metadata": {},
   "outputs": [],
   "source": [
    "covid_usa.rename(columns = {'date_epicrv':'Date'}, inplace=True)"
   ]
  },
  {
   "cell_type": "code",
   "execution_count": 296,
   "metadata": {},
   "outputs": [
    {
     "data": {
      "text/html": [
       "<div>\n",
       "<style scoped>\n",
       "    .dataframe tbody tr th:only-of-type {\n",
       "        vertical-align: middle;\n",
       "    }\n",
       "\n",
       "    .dataframe tbody tr th {\n",
       "        vertical-align: top;\n",
       "    }\n",
       "\n",
       "    .dataframe thead th {\n",
       "        text-align: right;\n",
       "    }\n",
       "</style>\n",
       "<table border=\"1\" class=\"dataframe\">\n",
       "  <thead>\n",
       "    <tr style=\"text-align: right;\">\n",
       "      <th></th>\n",
       "      <th>Date</th>\n",
       "      <th>NewCase</th>\n",
       "      <th>CumCase</th>\n",
       "      <th>NewDeath</th>\n",
       "      <th>CumDeath</th>\n",
       "    </tr>\n",
       "  </thead>\n",
       "  <tbody>\n",
       "    <tr>\n",
       "      <td>19375</td>\n",
       "      <td>2020-01-20T00:00:00.000Z</td>\n",
       "      <td>1</td>\n",
       "      <td>1</td>\n",
       "      <td>0</td>\n",
       "      <td>0</td>\n",
       "    </tr>\n",
       "    <tr>\n",
       "      <td>19376</td>\n",
       "      <td>2020-01-21T00:00:00.000Z</td>\n",
       "      <td>0</td>\n",
       "      <td>1</td>\n",
       "      <td>0</td>\n",
       "      <td>0</td>\n",
       "    </tr>\n",
       "    <tr>\n",
       "      <td>19377</td>\n",
       "      <td>2020-01-22T00:00:00.000Z</td>\n",
       "      <td>0</td>\n",
       "      <td>1</td>\n",
       "      <td>0</td>\n",
       "      <td>0</td>\n",
       "    </tr>\n",
       "    <tr>\n",
       "      <td>19378</td>\n",
       "      <td>2020-01-23T00:00:00.000Z</td>\n",
       "      <td>0</td>\n",
       "      <td>1</td>\n",
       "      <td>0</td>\n",
       "      <td>0</td>\n",
       "    </tr>\n",
       "    <tr>\n",
       "      <td>19379</td>\n",
       "      <td>2020-01-24T00:00:00.000Z</td>\n",
       "      <td>1</td>\n",
       "      <td>2</td>\n",
       "      <td>0</td>\n",
       "      <td>0</td>\n",
       "    </tr>\n",
       "  </tbody>\n",
       "</table>\n",
       "</div>"
      ],
      "text/plain": [
       "                           Date  NewCase  CumCase  NewDeath  CumDeath\n",
       "19375  2020-01-20T00:00:00.000Z        1        1         0         0\n",
       "19376  2020-01-21T00:00:00.000Z        0        1         0         0\n",
       "19377  2020-01-22T00:00:00.000Z        0        1         0         0\n",
       "19378  2020-01-23T00:00:00.000Z        0        1         0         0\n",
       "19379  2020-01-24T00:00:00.000Z        1        2         0         0"
      ]
     },
     "execution_count": 296,
     "metadata": {},
     "output_type": "execute_result"
    }
   ],
   "source": [
    "covid_usa.head()"
   ]
  },
  {
   "cell_type": "markdown",
   "metadata": {},
   "source": [
    "The \"Date\" column included unnecessary timestamp information. Such information was removed via a lambda function, and the column was transformed to a datetime format consistent with other considered dataframes."
   ]
  },
  {
   "cell_type": "code",
   "execution_count": 297,
   "metadata": {},
   "outputs": [],
   "source": [
    "covid_usa['Date'] = covid_usa['Date'].apply(lambda x: pd.to_datetime(str(x))).dt.strftime('%Y-%m-%d')\n",
    "covid_usa['Date'] = pd.to_datetime(covid_usa['Date'])"
   ]
  },
  {
   "cell_type": "code",
   "execution_count": 298,
   "metadata": {},
   "outputs": [
    {
     "data": {
      "text/html": [
       "<div>\n",
       "<style scoped>\n",
       "    .dataframe tbody tr th:only-of-type {\n",
       "        vertical-align: middle;\n",
       "    }\n",
       "\n",
       "    .dataframe tbody tr th {\n",
       "        vertical-align: top;\n",
       "    }\n",
       "\n",
       "    .dataframe thead th {\n",
       "        text-align: right;\n",
       "    }\n",
       "</style>\n",
       "<table border=\"1\" class=\"dataframe\">\n",
       "  <thead>\n",
       "    <tr style=\"text-align: right;\">\n",
       "      <th></th>\n",
       "      <th>Date</th>\n",
       "      <th>NewCase</th>\n",
       "      <th>CumCase</th>\n",
       "      <th>NewDeath</th>\n",
       "      <th>CumDeath</th>\n",
       "    </tr>\n",
       "  </thead>\n",
       "  <tbody>\n",
       "    <tr>\n",
       "      <td>19375</td>\n",
       "      <td>2020-01-20</td>\n",
       "      <td>1</td>\n",
       "      <td>1</td>\n",
       "      <td>0</td>\n",
       "      <td>0</td>\n",
       "    </tr>\n",
       "    <tr>\n",
       "      <td>19376</td>\n",
       "      <td>2020-01-21</td>\n",
       "      <td>0</td>\n",
       "      <td>1</td>\n",
       "      <td>0</td>\n",
       "      <td>0</td>\n",
       "    </tr>\n",
       "    <tr>\n",
       "      <td>19377</td>\n",
       "      <td>2020-01-22</td>\n",
       "      <td>0</td>\n",
       "      <td>1</td>\n",
       "      <td>0</td>\n",
       "      <td>0</td>\n",
       "    </tr>\n",
       "    <tr>\n",
       "      <td>19378</td>\n",
       "      <td>2020-01-23</td>\n",
       "      <td>0</td>\n",
       "      <td>1</td>\n",
       "      <td>0</td>\n",
       "      <td>0</td>\n",
       "    </tr>\n",
       "    <tr>\n",
       "      <td>19379</td>\n",
       "      <td>2020-01-24</td>\n",
       "      <td>1</td>\n",
       "      <td>2</td>\n",
       "      <td>0</td>\n",
       "      <td>0</td>\n",
       "    </tr>\n",
       "  </tbody>\n",
       "</table>\n",
       "</div>"
      ],
      "text/plain": [
       "            Date  NewCase  CumCase  NewDeath  CumDeath\n",
       "19375 2020-01-20        1        1         0         0\n",
       "19376 2020-01-21        0        1         0         0\n",
       "19377 2020-01-22        0        1         0         0\n",
       "19378 2020-01-23        0        1         0         0\n",
       "19379 2020-01-24        1        2         0         0"
      ]
     },
     "execution_count": 298,
     "metadata": {},
     "output_type": "execute_result"
    }
   ],
   "source": [
    "covid_usa.head()"
   ]
  },
  {
   "cell_type": "markdown",
   "metadata": {},
   "source": [
    "Finally, the dataframe was reindexed for ease of reference."
   ]
  },
  {
   "cell_type": "code",
   "execution_count": 299,
   "metadata": {},
   "outputs": [
    {
     "data": {
      "text/html": [
       "<div>\n",
       "<style scoped>\n",
       "    .dataframe tbody tr th:only-of-type {\n",
       "        vertical-align: middle;\n",
       "    }\n",
       "\n",
       "    .dataframe tbody tr th {\n",
       "        vertical-align: top;\n",
       "    }\n",
       "\n",
       "    .dataframe thead th {\n",
       "        text-align: right;\n",
       "    }\n",
       "</style>\n",
       "<table border=\"1\" class=\"dataframe\">\n",
       "  <thead>\n",
       "    <tr style=\"text-align: right;\">\n",
       "      <th></th>\n",
       "      <th>Date</th>\n",
       "      <th>NewCase</th>\n",
       "      <th>CumCase</th>\n",
       "      <th>NewDeath</th>\n",
       "      <th>CumDeath</th>\n",
       "    </tr>\n",
       "  </thead>\n",
       "  <tbody>\n",
       "    <tr>\n",
       "      <td>0</td>\n",
       "      <td>2020-01-20</td>\n",
       "      <td>1</td>\n",
       "      <td>1</td>\n",
       "      <td>0</td>\n",
       "      <td>0</td>\n",
       "    </tr>\n",
       "    <tr>\n",
       "      <td>1</td>\n",
       "      <td>2020-01-21</td>\n",
       "      <td>0</td>\n",
       "      <td>1</td>\n",
       "      <td>0</td>\n",
       "      <td>0</td>\n",
       "    </tr>\n",
       "    <tr>\n",
       "      <td>2</td>\n",
       "      <td>2020-01-22</td>\n",
       "      <td>0</td>\n",
       "      <td>1</td>\n",
       "      <td>0</td>\n",
       "      <td>0</td>\n",
       "    </tr>\n",
       "    <tr>\n",
       "      <td>3</td>\n",
       "      <td>2020-01-23</td>\n",
       "      <td>0</td>\n",
       "      <td>1</td>\n",
       "      <td>0</td>\n",
       "      <td>0</td>\n",
       "    </tr>\n",
       "    <tr>\n",
       "      <td>4</td>\n",
       "      <td>2020-01-24</td>\n",
       "      <td>1</td>\n",
       "      <td>2</td>\n",
       "      <td>0</td>\n",
       "      <td>0</td>\n",
       "    </tr>\n",
       "    <tr>\n",
       "      <td>...</td>\n",
       "      <td>...</td>\n",
       "      <td>...</td>\n",
       "      <td>...</td>\n",
       "      <td>...</td>\n",
       "      <td>...</td>\n",
       "    </tr>\n",
       "    <tr>\n",
       "      <td>135</td>\n",
       "      <td>2020-06-03</td>\n",
       "      <td>14692</td>\n",
       "      <td>1798330</td>\n",
       "      <td>761</td>\n",
       "      <td>105008</td>\n",
       "    </tr>\n",
       "    <tr>\n",
       "      <td>136</td>\n",
       "      <td>2020-06-04</td>\n",
       "      <td>24890</td>\n",
       "      <td>1823220</td>\n",
       "      <td>1043</td>\n",
       "      <td>106051</td>\n",
       "    </tr>\n",
       "    <tr>\n",
       "      <td>137</td>\n",
       "      <td>2020-06-05</td>\n",
       "      <td>14583</td>\n",
       "      <td>1837803</td>\n",
       "      <td>825</td>\n",
       "      <td>106876</td>\n",
       "    </tr>\n",
       "    <tr>\n",
       "      <td>138</td>\n",
       "      <td>2020-06-06</td>\n",
       "      <td>20069</td>\n",
       "      <td>1857872</td>\n",
       "      <td>1035</td>\n",
       "      <td>107911</td>\n",
       "    </tr>\n",
       "    <tr>\n",
       "      <td>139</td>\n",
       "      <td>2020-06-07</td>\n",
       "      <td>28922</td>\n",
       "      <td>1886794</td>\n",
       "      <td>1127</td>\n",
       "      <td>109038</td>\n",
       "    </tr>\n",
       "  </tbody>\n",
       "</table>\n",
       "<p>140 rows × 5 columns</p>\n",
       "</div>"
      ],
      "text/plain": [
       "          Date  NewCase  CumCase  NewDeath  CumDeath\n",
       "0   2020-01-20        1        1         0         0\n",
       "1   2020-01-21        0        1         0         0\n",
       "2   2020-01-22        0        1         0         0\n",
       "3   2020-01-23        0        1         0         0\n",
       "4   2020-01-24        1        2         0         0\n",
       "..         ...      ...      ...       ...       ...\n",
       "135 2020-06-03    14692  1798330       761    105008\n",
       "136 2020-06-04    24890  1823220      1043    106051\n",
       "137 2020-06-05    14583  1837803       825    106876\n",
       "138 2020-06-06    20069  1857872      1035    107911\n",
       "139 2020-06-07    28922  1886794      1127    109038\n",
       "\n",
       "[140 rows x 5 columns]"
      ]
     },
     "execution_count": 299,
     "metadata": {},
     "output_type": "execute_result"
    }
   ],
   "source": [
    "covid_usa.reset_index(drop=True)"
   ]
  },
  {
   "cell_type": "markdown",
   "metadata": {},
   "source": [
    "##### Importing and cleaning XLY ETF price data"
   ]
  },
  {
   "cell_type": "markdown",
   "metadata": {},
   "source": [
    "Daily prices of the aforementioned XLY equity fund, from January 2010 to June 2020, were uploaded to Pandas."
   ]
  },
  {
   "cell_type": "code",
   "execution_count": 300,
   "metadata": {},
   "outputs": [],
   "source": [
    "XLY = pd.read_csv('Final_Project/HistoricalPrices_XLY.csv')"
   ]
  },
  {
   "cell_type": "markdown",
   "metadata": {},
   "source": [
    "EDA was performed."
   ]
  },
  {
   "cell_type": "code",
   "execution_count": 301,
   "metadata": {},
   "outputs": [
    {
     "data": {
      "text/html": [
       "<div>\n",
       "<style scoped>\n",
       "    .dataframe tbody tr th:only-of-type {\n",
       "        vertical-align: middle;\n",
       "    }\n",
       "\n",
       "    .dataframe tbody tr th {\n",
       "        vertical-align: top;\n",
       "    }\n",
       "\n",
       "    .dataframe thead th {\n",
       "        text-align: right;\n",
       "    }\n",
       "</style>\n",
       "<table border=\"1\" class=\"dataframe\">\n",
       "  <thead>\n",
       "    <tr style=\"text-align: right;\">\n",
       "      <th></th>\n",
       "      <th>Date</th>\n",
       "      <th>Open</th>\n",
       "      <th>High</th>\n",
       "      <th>Low</th>\n",
       "      <th>Close</th>\n",
       "      <th>Volume</th>\n",
       "    </tr>\n",
       "  </thead>\n",
       "  <tbody>\n",
       "    <tr>\n",
       "      <td>0</td>\n",
       "      <td>6/12/2020</td>\n",
       "      <td>127.44</td>\n",
       "      <td>127.88</td>\n",
       "      <td>122.80</td>\n",
       "      <td>125.34</td>\n",
       "      <td>5994757</td>\n",
       "    </tr>\n",
       "    <tr>\n",
       "      <td>1</td>\n",
       "      <td>6/11/2020</td>\n",
       "      <td>126.77</td>\n",
       "      <td>128.66</td>\n",
       "      <td>123.81</td>\n",
       "      <td>124.11</td>\n",
       "      <td>6867784</td>\n",
       "    </tr>\n",
       "    <tr>\n",
       "      <td>2</td>\n",
       "      <td>6/10/2020</td>\n",
       "      <td>132.73</td>\n",
       "      <td>132.75</td>\n",
       "      <td>130.83</td>\n",
       "      <td>130.97</td>\n",
       "      <td>3892230</td>\n",
       "    </tr>\n",
       "    <tr>\n",
       "      <td>3</td>\n",
       "      <td>6/9/2020</td>\n",
       "      <td>132.08</td>\n",
       "      <td>132.95</td>\n",
       "      <td>131.24</td>\n",
       "      <td>132.21</td>\n",
       "      <td>4344916</td>\n",
       "    </tr>\n",
       "    <tr>\n",
       "      <td>4</td>\n",
       "      <td>6/8/2020</td>\n",
       "      <td>132.01</td>\n",
       "      <td>133.30</td>\n",
       "      <td>132.01</td>\n",
       "      <td>133.25</td>\n",
       "      <td>3502454</td>\n",
       "    </tr>\n",
       "  </tbody>\n",
       "</table>\n",
       "</div>"
      ],
      "text/plain": [
       "        Date    Open    High     Low   Close   Volume\n",
       "0  6/12/2020  127.44  127.88  122.80  125.34  5994757\n",
       "1  6/11/2020  126.77  128.66  123.81  124.11  6867784\n",
       "2  6/10/2020  132.73  132.75  130.83  130.97  3892230\n",
       "3   6/9/2020  132.08  132.95  131.24  132.21  4344916\n",
       "4   6/8/2020  132.01  133.30  132.01  133.25  3502454"
      ]
     },
     "execution_count": 301,
     "metadata": {},
     "output_type": "execute_result"
    }
   ],
   "source": [
    "XLY.head()"
   ]
  },
  {
   "cell_type": "code",
   "execution_count": 302,
   "metadata": {},
   "outputs": [
    {
     "data": {
      "text/plain": [
       "(2629, 6)"
      ]
     },
     "execution_count": 302,
     "metadata": {},
     "output_type": "execute_result"
    }
   ],
   "source": [
    "XLY.shape"
   ]
  },
  {
   "cell_type": "code",
   "execution_count": 303,
   "metadata": {},
   "outputs": [
    {
     "data": {
      "text/html": [
       "<div>\n",
       "<style scoped>\n",
       "    .dataframe tbody tr th:only-of-type {\n",
       "        vertical-align: middle;\n",
       "    }\n",
       "\n",
       "    .dataframe tbody tr th {\n",
       "        vertical-align: top;\n",
       "    }\n",
       "\n",
       "    .dataframe thead th {\n",
       "        text-align: right;\n",
       "    }\n",
       "</style>\n",
       "<table border=\"1\" class=\"dataframe\">\n",
       "  <thead>\n",
       "    <tr style=\"text-align: right;\">\n",
       "      <th></th>\n",
       "      <th>Open</th>\n",
       "      <th>High</th>\n",
       "      <th>Low</th>\n",
       "      <th>Close</th>\n",
       "      <th>Volume</th>\n",
       "    </tr>\n",
       "  </thead>\n",
       "  <tbody>\n",
       "    <tr>\n",
       "      <td>count</td>\n",
       "      <td>2629.000000</td>\n",
       "      <td>2629.000000</td>\n",
       "      <td>2629.000000</td>\n",
       "      <td>2629.000000</td>\n",
       "      <td>2.629000e+03</td>\n",
       "    </tr>\n",
       "    <tr>\n",
       "      <td>mean</td>\n",
       "      <td>72.901816</td>\n",
       "      <td>73.326350</td>\n",
       "      <td>72.442714</td>\n",
       "      <td>72.914893</td>\n",
       "      <td>6.154969e+06</td>\n",
       "    </tr>\n",
       "    <tr>\n",
       "      <td>std</td>\n",
       "      <td>28.399873</td>\n",
       "      <td>28.550528</td>\n",
       "      <td>28.227623</td>\n",
       "      <td>28.390506</td>\n",
       "      <td>3.502939e+06</td>\n",
       "    </tr>\n",
       "    <tr>\n",
       "      <td>min</td>\n",
       "      <td>28.830000</td>\n",
       "      <td>28.970000</td>\n",
       "      <td>28.210000</td>\n",
       "      <td>28.590000</td>\n",
       "      <td>1.498337e+06</td>\n",
       "    </tr>\n",
       "    <tr>\n",
       "      <td>25%</td>\n",
       "      <td>45.150000</td>\n",
       "      <td>45.395000</td>\n",
       "      <td>44.900000</td>\n",
       "      <td>45.210000</td>\n",
       "      <td>3.904985e+06</td>\n",
       "    </tr>\n",
       "    <tr>\n",
       "      <td>50%</td>\n",
       "      <td>73.400000</td>\n",
       "      <td>74.255000</td>\n",
       "      <td>72.850000</td>\n",
       "      <td>73.570000</td>\n",
       "      <td>5.259253e+06</td>\n",
       "    </tr>\n",
       "    <tr>\n",
       "      <td>75%</td>\n",
       "      <td>91.610000</td>\n",
       "      <td>92.180000</td>\n",
       "      <td>91.230000</td>\n",
       "      <td>91.720000</td>\n",
       "      <td>7.283512e+06</td>\n",
       "    </tr>\n",
       "    <tr>\n",
       "      <td>max</td>\n",
       "      <td>132.730000</td>\n",
       "      <td>133.300000</td>\n",
       "      <td>132.080000</td>\n",
       "      <td>133.250000</td>\n",
       "      <td>3.247765e+07</td>\n",
       "    </tr>\n",
       "  </tbody>\n",
       "</table>\n",
       "</div>"
      ],
      "text/plain": [
       "              Open         High          Low        Close        Volume\n",
       "count  2629.000000  2629.000000  2629.000000  2629.000000  2.629000e+03\n",
       "mean     72.901816    73.326350    72.442714    72.914893  6.154969e+06\n",
       "std      28.399873    28.550528    28.227623    28.390506  3.502939e+06\n",
       "min      28.830000    28.970000    28.210000    28.590000  1.498337e+06\n",
       "25%      45.150000    45.395000    44.900000    45.210000  3.904985e+06\n",
       "50%      73.400000    74.255000    72.850000    73.570000  5.259253e+06\n",
       "75%      91.610000    92.180000    91.230000    91.720000  7.283512e+06\n",
       "max     132.730000   133.300000   132.080000   133.250000  3.247765e+07"
      ]
     },
     "execution_count": 303,
     "metadata": {},
     "output_type": "execute_result"
    }
   ],
   "source": [
    "XLY.describe()"
   ]
  },
  {
   "cell_type": "code",
   "execution_count": 304,
   "metadata": {},
   "outputs": [
    {
     "name": "stdout",
     "output_type": "stream",
     "text": [
      "<class 'pandas.core.frame.DataFrame'>\n",
      "RangeIndex: 2629 entries, 0 to 2628\n",
      "Data columns (total 6 columns):\n",
      "Date       2629 non-null object\n",
      " Open      2629 non-null float64\n",
      " High      2629 non-null float64\n",
      " Low       2629 non-null float64\n",
      " Close     2629 non-null float64\n",
      " Volume    2629 non-null int64\n",
      "dtypes: float64(4), int64(1), object(1)\n",
      "memory usage: 123.4+ KB\n"
     ]
    }
   ],
   "source": [
    "XLY.info()"
   ]
  },
  {
   "cell_type": "markdown",
   "metadata": {},
   "source": [
    "EDA showed a Date column inconsistent with that of other considered dataframes. The column's format was accordingly changed."
   ]
  },
  {
   "cell_type": "code",
   "execution_count": 305,
   "metadata": {},
   "outputs": [],
   "source": [
    "XLY['Date'] = pd.to_datetime(XLY['Date'], infer_datetime_format=True)"
   ]
  },
  {
   "cell_type": "markdown",
   "metadata": {},
   "source": [
    "Closing prices were sorted by ascending date for ease of reference"
   ]
  },
  {
   "cell_type": "code",
   "execution_count": 306,
   "metadata": {},
   "outputs": [],
   "source": [
    "XLY = XLY.sort_values(by='Date',ascending=True)"
   ]
  },
  {
   "cell_type": "markdown",
   "metadata": {},
   "source": [
    "The Closing price is considered the fund's final price of a given trading day. Accordingly, it was the price considered in data analysis, and other price columns were therefore dropped."
   ]
  },
  {
   "cell_type": "code",
   "execution_count": 307,
   "metadata": {},
   "outputs": [],
   "source": [
    "XLY = XLY.drop([' Open',' High',' Low',' Volume'],axis=1)"
   ]
  },
  {
   "cell_type": "markdown",
   "metadata": {},
   "source": [
    "White space was removed from the Date column for ease of later dataframe merging."
   ]
  },
  {
   "cell_type": "code",
   "execution_count": 308,
   "metadata": {},
   "outputs": [],
   "source": [
    "XLY.columns = XLY.columns.str.lstrip()"
   ]
  },
  {
   "cell_type": "markdown",
   "metadata": {},
   "source": [
    "Finally, the dataframe was reindexed for ease of reference"
   ]
  },
  {
   "cell_type": "code",
   "execution_count": 309,
   "metadata": {},
   "outputs": [
    {
     "data": {
      "text/html": [
       "<div>\n",
       "<style scoped>\n",
       "    .dataframe tbody tr th:only-of-type {\n",
       "        vertical-align: middle;\n",
       "    }\n",
       "\n",
       "    .dataframe tbody tr th {\n",
       "        vertical-align: top;\n",
       "    }\n",
       "\n",
       "    .dataframe thead th {\n",
       "        text-align: right;\n",
       "    }\n",
       "</style>\n",
       "<table border=\"1\" class=\"dataframe\">\n",
       "  <thead>\n",
       "    <tr style=\"text-align: right;\">\n",
       "      <th></th>\n",
       "      <th>Date</th>\n",
       "      <th>Close</th>\n",
       "    </tr>\n",
       "  </thead>\n",
       "  <tbody>\n",
       "    <tr>\n",
       "      <td>0</td>\n",
       "      <td>2010-01-04</td>\n",
       "      <td>30.00</td>\n",
       "    </tr>\n",
       "    <tr>\n",
       "      <td>1</td>\n",
       "      <td>2010-01-05</td>\n",
       "      <td>30.11</td>\n",
       "    </tr>\n",
       "    <tr>\n",
       "      <td>2</td>\n",
       "      <td>2010-01-06</td>\n",
       "      <td>30.15</td>\n",
       "    </tr>\n",
       "    <tr>\n",
       "      <td>3</td>\n",
       "      <td>2010-01-07</td>\n",
       "      <td>30.40</td>\n",
       "    </tr>\n",
       "    <tr>\n",
       "      <td>4</td>\n",
       "      <td>2010-01-08</td>\n",
       "      <td>30.39</td>\n",
       "    </tr>\n",
       "    <tr>\n",
       "      <td>...</td>\n",
       "      <td>...</td>\n",
       "      <td>...</td>\n",
       "    </tr>\n",
       "    <tr>\n",
       "      <td>2624</td>\n",
       "      <td>2020-06-08</td>\n",
       "      <td>133.25</td>\n",
       "    </tr>\n",
       "    <tr>\n",
       "      <td>2625</td>\n",
       "      <td>2020-06-09</td>\n",
       "      <td>132.21</td>\n",
       "    </tr>\n",
       "    <tr>\n",
       "      <td>2626</td>\n",
       "      <td>2020-06-10</td>\n",
       "      <td>130.97</td>\n",
       "    </tr>\n",
       "    <tr>\n",
       "      <td>2627</td>\n",
       "      <td>2020-06-11</td>\n",
       "      <td>124.11</td>\n",
       "    </tr>\n",
       "    <tr>\n",
       "      <td>2628</td>\n",
       "      <td>2020-06-12</td>\n",
       "      <td>125.34</td>\n",
       "    </tr>\n",
       "  </tbody>\n",
       "</table>\n",
       "<p>2629 rows × 2 columns</p>\n",
       "</div>"
      ],
      "text/plain": [
       "           Date   Close\n",
       "0    2010-01-04   30.00\n",
       "1    2010-01-05   30.11\n",
       "2    2010-01-06   30.15\n",
       "3    2010-01-07   30.40\n",
       "4    2010-01-08   30.39\n",
       "...         ...     ...\n",
       "2624 2020-06-08  133.25\n",
       "2625 2020-06-09  132.21\n",
       "2626 2020-06-10  130.97\n",
       "2627 2020-06-11  124.11\n",
       "2628 2020-06-12  125.34\n",
       "\n",
       "[2629 rows x 2 columns]"
      ]
     },
     "execution_count": 309,
     "metadata": {},
     "output_type": "execute_result"
    }
   ],
   "source": [
    "XLY.reset_index(drop=True)"
   ]
  },
  {
   "cell_type": "markdown",
   "metadata": {},
   "source": [
    "##### Importing and cleaning credit card transaction data"
   ]
  },
  {
   "cell_type": "markdown",
   "metadata": {},
   "source": [
    "Monthly payment card dollar spending growth data were uploaded to Pandas."
   ]
  },
  {
   "cell_type": "code",
   "execution_count": 310,
   "metadata": {},
   "outputs": [],
   "source": [
    "txns = pd.read_csv('Final_Project/Payment Card Txn Growth.csv')"
   ]
  },
  {
   "cell_type": "code",
   "execution_count": 311,
   "metadata": {},
   "outputs": [
    {
     "data": {
      "text/html": [
       "<div>\n",
       "<style scoped>\n",
       "    .dataframe tbody tr th:only-of-type {\n",
       "        vertical-align: middle;\n",
       "    }\n",
       "\n",
       "    .dataframe tbody tr th {\n",
       "        vertical-align: top;\n",
       "    }\n",
       "\n",
       "    .dataframe thead th {\n",
       "        text-align: right;\n",
       "    }\n",
       "</style>\n",
       "<table border=\"1\" class=\"dataframe\">\n",
       "  <thead>\n",
       "    <tr style=\"text-align: right;\">\n",
       "      <th></th>\n",
       "      <th>Description</th>\n",
       "      <th>Ticker</th>\n",
       "      <th>Field ID</th>\n",
       "      <th>Field Mnemonic</th>\n",
       "      <th>Data State</th>\n",
       "      <th>4/1/2020</th>\n",
       "      <th>3/1/2020</th>\n",
       "      <th>2/1/2020</th>\n",
       "      <th>1/1/2020</th>\n",
       "      <th>12/1/2019</th>\n",
       "      <th>11/1/2019</th>\n",
       "      <th>10/1/2019</th>\n",
       "      <th>9/1/2019</th>\n",
       "      <th>8/1/2019</th>\n",
       "      <th>7/1/2019</th>\n",
       "      <th>6/1/2019</th>\n",
       "    </tr>\n",
       "  </thead>\n",
       "  <tbody>\n",
       "    <tr>\n",
       "      <td>0</td>\n",
       "      <td>Top Data Point Is Latest Period Available</td>\n",
       "      <td>NaN</td>\n",
       "      <td>NaN</td>\n",
       "      <td>NaN</td>\n",
       "      <td>Static</td>\n",
       "      <td>NaN</td>\n",
       "      <td>NaN</td>\n",
       "      <td>NaN</td>\n",
       "      <td>NaN</td>\n",
       "      <td>NaN</td>\n",
       "      <td>NaN</td>\n",
       "      <td>NaN</td>\n",
       "      <td>NaN</td>\n",
       "      <td>NaN</td>\n",
       "      <td>NaN</td>\n",
       "      <td>NaN</td>\n",
       "    </tr>\n",
       "    <tr>\n",
       "      <td>1</td>\n",
       "      <td>Until Final Month Has Reported</td>\n",
       "      <td>NaN</td>\n",
       "      <td>NaN</td>\n",
       "      <td>NaN</td>\n",
       "      <td>Static</td>\n",
       "      <td>NaN</td>\n",
       "      <td>NaN</td>\n",
       "      <td>NaN</td>\n",
       "      <td>NaN</td>\n",
       "      <td>NaN</td>\n",
       "      <td>NaN</td>\n",
       "      <td>NaN</td>\n",
       "      <td>NaN</td>\n",
       "      <td>NaN</td>\n",
       "      <td>NaN</td>\n",
       "      <td>NaN</td>\n",
       "    </tr>\n",
       "    <tr>\n",
       "      <td>2</td>\n",
       "      <td>NaN</td>\n",
       "      <td>NaN</td>\n",
       "      <td>NaN</td>\n",
       "      <td>NaN</td>\n",
       "      <td>Static</td>\n",
       "      <td>NaN</td>\n",
       "      <td>NaN</td>\n",
       "      <td>NaN</td>\n",
       "      <td>NaN</td>\n",
       "      <td>NaN</td>\n",
       "      <td>NaN</td>\n",
       "      <td>NaN</td>\n",
       "      <td>NaN</td>\n",
       "      <td>NaN</td>\n",
       "      <td>NaN</td>\n",
       "      <td>NaN</td>\n",
       "    </tr>\n",
       "    <tr>\n",
       "      <td>3</td>\n",
       "      <td>Dollar Volume Growth</td>\n",
       "      <td>NaN</td>\n",
       "      <td>NaN</td>\n",
       "      <td>NaN</td>\n",
       "      <td>Heading</td>\n",
       "      <td>NaN</td>\n",
       "      <td>NaN</td>\n",
       "      <td>NaN</td>\n",
       "      <td>NaN</td>\n",
       "      <td>NaN</td>\n",
       "      <td>NaN</td>\n",
       "      <td>NaN</td>\n",
       "      <td>NaN</td>\n",
       "      <td>NaN</td>\n",
       "      <td>NaN</td>\n",
       "      <td>NaN</td>\n",
       "    </tr>\n",
       "    <tr>\n",
       "      <td>4</td>\n",
       "      <td>Total Overall Growth (All Industries)</td>\n",
       "      <td>DVG TSTO Index</td>\n",
       "      <td>PR005</td>\n",
       "      <td>PX_LAST</td>\n",
       "      <td>Dynamic</td>\n",
       "      <td>-38.92723379</td>\n",
       "      <td>-17.35383738</td>\n",
       "      <td>1.808928909</td>\n",
       "      <td>3.479499296</td>\n",
       "      <td>3.488737605</td>\n",
       "      <td>2.371351174</td>\n",
       "      <td>2.500769086</td>\n",
       "      <td>1.933993108</td>\n",
       "      <td>2.648401985</td>\n",
       "      <td>2.093970589</td>\n",
       "      <td>1.328913842</td>\n",
       "    </tr>\n",
       "  </tbody>\n",
       "</table>\n",
       "</div>"
      ],
      "text/plain": [
       "                                 Description          Ticker Field ID  \\\n",
       "0  Top Data Point Is Latest Period Available             NaN      NaN   \n",
       "1             Until Final Month Has Reported             NaN      NaN   \n",
       "2                                        NaN             NaN      NaN   \n",
       "3                       Dollar Volume Growth             NaN      NaN   \n",
       "4      Total Overall Growth (All Industries)  DVG TSTO Index    PR005   \n",
       "\n",
       "  Field Mnemonic Data State      4/1/2020      3/1/2020     2/1/2020  \\\n",
       "0            NaN     Static           NaN           NaN          NaN   \n",
       "1            NaN     Static           NaN           NaN          NaN   \n",
       "2            NaN     Static           NaN           NaN          NaN   \n",
       "3            NaN    Heading           NaN           NaN          NaN   \n",
       "4        PX_LAST    Dynamic  -38.92723379  -17.35383738  1.808928909   \n",
       "\n",
       "      1/1/2020    12/1/2019    11/1/2019    10/1/2019     9/1/2019  \\\n",
       "0          NaN          NaN          NaN          NaN          NaN   \n",
       "1          NaN          NaN          NaN          NaN          NaN   \n",
       "2          NaN          NaN          NaN          NaN          NaN   \n",
       "3          NaN          NaN          NaN          NaN          NaN   \n",
       "4  3.479499296  3.488737605  2.371351174  2.500769086  1.933993108   \n",
       "\n",
       "      8/1/2019     7/1/2019     6/1/2019  \n",
       "0          NaN          NaN          NaN  \n",
       "1          NaN          NaN          NaN  \n",
       "2          NaN          NaN          NaN  \n",
       "3          NaN          NaN          NaN  \n",
       "4  2.648401985  2.093970589  1.328913842  "
      ]
     },
     "execution_count": 311,
     "metadata": {},
     "output_type": "execute_result"
    }
   ],
   "source": [
    "txns.head()"
   ]
  },
  {
   "cell_type": "code",
   "execution_count": 312,
   "metadata": {},
   "outputs": [
    {
     "data": {
      "text/plain": [
       "(42, 16)"
      ]
     },
     "execution_count": 312,
     "metadata": {},
     "output_type": "execute_result"
    }
   ],
   "source": [
    "txns.shape"
   ]
  },
  {
   "cell_type": "code",
   "execution_count": 313,
   "metadata": {},
   "outputs": [
    {
     "data": {
      "text/html": [
       "<div>\n",
       "<style scoped>\n",
       "    .dataframe tbody tr th:only-of-type {\n",
       "        vertical-align: middle;\n",
       "    }\n",
       "\n",
       "    .dataframe tbody tr th {\n",
       "        vertical-align: top;\n",
       "    }\n",
       "\n",
       "    .dataframe thead th {\n",
       "        text-align: right;\n",
       "    }\n",
       "</style>\n",
       "<table border=\"1\" class=\"dataframe\">\n",
       "  <thead>\n",
       "    <tr style=\"text-align: right;\">\n",
       "      <th></th>\n",
       "      <th>Description</th>\n",
       "      <th>Ticker</th>\n",
       "      <th>Field ID</th>\n",
       "      <th>Field Mnemonic</th>\n",
       "      <th>Data State</th>\n",
       "      <th>4/1/2020</th>\n",
       "      <th>3/1/2020</th>\n",
       "      <th>2/1/2020</th>\n",
       "      <th>1/1/2020</th>\n",
       "      <th>12/1/2019</th>\n",
       "      <th>11/1/2019</th>\n",
       "      <th>10/1/2019</th>\n",
       "      <th>9/1/2019</th>\n",
       "      <th>8/1/2019</th>\n",
       "      <th>7/1/2019</th>\n",
       "      <th>6/1/2019</th>\n",
       "    </tr>\n",
       "  </thead>\n",
       "  <tbody>\n",
       "    <tr>\n",
       "      <td>count</td>\n",
       "      <td>39</td>\n",
       "      <td>35</td>\n",
       "      <td>35</td>\n",
       "      <td>35</td>\n",
       "      <td>41</td>\n",
       "      <td>28</td>\n",
       "      <td>24</td>\n",
       "      <td>35</td>\n",
       "      <td>35</td>\n",
       "      <td>35</td>\n",
       "      <td>35</td>\n",
       "      <td>35</td>\n",
       "      <td>35</td>\n",
       "      <td>35</td>\n",
       "      <td>35</td>\n",
       "      <td>35</td>\n",
       "    </tr>\n",
       "    <tr>\n",
       "      <td>unique</td>\n",
       "      <td>39</td>\n",
       "      <td>35</td>\n",
       "      <td>2</td>\n",
       "      <td>2</td>\n",
       "      <td>4</td>\n",
       "      <td>28</td>\n",
       "      <td>24</td>\n",
       "      <td>35</td>\n",
       "      <td>35</td>\n",
       "      <td>35</td>\n",
       "      <td>35</td>\n",
       "      <td>35</td>\n",
       "      <td>35</td>\n",
       "      <td>35</td>\n",
       "      <td>35</td>\n",
       "      <td>35</td>\n",
       "    </tr>\n",
       "    <tr>\n",
       "      <td>top</td>\n",
       "      <td>Stationery Stores, Office and School S...</td>\n",
       "      <td>DVG BOOK Index</td>\n",
       "      <td>PR005</td>\n",
       "      <td>PX_LAST</td>\n",
       "      <td>Dynamic</td>\n",
       "      <td>-54.68451575</td>\n",
       "      <td>-51.1409131</td>\n",
       "      <td>-0.167083526</td>\n",
       "      <td>1.168930712</td>\n",
       "      <td>6.283544517</td>\n",
       "      <td>-4.148533924</td>\n",
       "      <td>5.075165824</td>\n",
       "      <td>-1.241230423</td>\n",
       "      <td>5.193632724</td>\n",
       "      <td>2.773876127</td>\n",
       "      <td>6.242907701</td>\n",
       "    </tr>\n",
       "    <tr>\n",
       "      <td>freq</td>\n",
       "      <td>1</td>\n",
       "      <td>1</td>\n",
       "      <td>34</td>\n",
       "      <td>34</td>\n",
       "      <td>34</td>\n",
       "      <td>1</td>\n",
       "      <td>1</td>\n",
       "      <td>1</td>\n",
       "      <td>1</td>\n",
       "      <td>1</td>\n",
       "      <td>1</td>\n",
       "      <td>1</td>\n",
       "      <td>1</td>\n",
       "      <td>1</td>\n",
       "      <td>1</td>\n",
       "      <td>1</td>\n",
       "    </tr>\n",
       "  </tbody>\n",
       "</table>\n",
       "</div>"
      ],
      "text/plain": [
       "                                              Description          Ticker  \\\n",
       "count                                                  39              35   \n",
       "unique                                                 39              35   \n",
       "top             Stationery Stores, Office and School S...  DVG BOOK Index   \n",
       "freq                                                    1               1   \n",
       "\n",
       "       Field ID Field Mnemonic Data State      4/1/2020     3/1/2020  \\\n",
       "count        35             35         41            28           24   \n",
       "unique        2              2          4            28           24   \n",
       "top       PR005        PX_LAST    Dynamic  -54.68451575  -51.1409131   \n",
       "freq         34             34         34             1            1   \n",
       "\n",
       "            2/1/2020     1/1/2020    12/1/2019     11/1/2019    10/1/2019  \\\n",
       "count             35           35           35            35           35   \n",
       "unique            35           35           35            35           35   \n",
       "top     -0.167083526  1.168930712  6.283544517  -4.148533924  5.075165824   \n",
       "freq               1            1            1             1            1   \n",
       "\n",
       "            9/1/2019     8/1/2019     7/1/2019     6/1/2019  \n",
       "count             35           35           35           35  \n",
       "unique            35           35           35           35  \n",
       "top     -1.241230423  5.193632724  2.773876127  6.242907701  \n",
       "freq               1            1            1            1  "
      ]
     },
     "execution_count": 313,
     "metadata": {},
     "output_type": "execute_result"
    }
   ],
   "source": [
    "txns.describe()"
   ]
  },
  {
   "cell_type": "code",
   "execution_count": 314,
   "metadata": {},
   "outputs": [
    {
     "name": "stdout",
     "output_type": "stream",
     "text": [
      "<class 'pandas.core.frame.DataFrame'>\n",
      "RangeIndex: 42 entries, 0 to 41\n",
      "Data columns (total 16 columns):\n",
      "Description       39 non-null object\n",
      "Ticker            35 non-null object\n",
      "Field ID          35 non-null object\n",
      "Field Mnemonic    35 non-null object\n",
      "Data State        41 non-null object\n",
      "4/1/2020          28 non-null object\n",
      "3/1/2020          24 non-null object\n",
      "2/1/2020          35 non-null object\n",
      "1/1/2020          35 non-null object\n",
      "12/1/2019         35 non-null object\n",
      "11/1/2019         35 non-null object\n",
      "10/1/2019         35 non-null object\n",
      "9/1/2019          35 non-null object\n",
      "8/1/2019          35 non-null object\n",
      "7/1/2019          35 non-null object\n",
      "6/1/2019          35 non-null object\n",
      "dtypes: object(16)\n",
      "memory usage: 5.4+ KB\n"
     ]
    }
   ],
   "source": [
    "txns.info()"
   ]
  },
  {
   "cell_type": "markdown",
   "metadata": {},
   "source": [
    "EDA revealed a lack of tidy data and a need for dataframe transposition. To ease transposition effort, the first three rows of data were dropped, as were unnecessary descriptor columns."
   ]
  },
  {
   "cell_type": "code",
   "execution_count": 315,
   "metadata": {},
   "outputs": [],
   "source": [
    "txns = txns.drop(txns.index[0:4]) \n",
    "txns = txns.drop(['Ticker','Field ID', 'Field Mnemonic','Data State'],axis=1)"
   ]
  },
  {
   "cell_type": "markdown",
   "metadata": {},
   "source": [
    "The dataframe suggested a relatively straightforward transposition along the \"Description\" column. Accordingly, the column was set as the dataframe's index and the dataframe transposed. Next, the dataframe's index was reset, with the new \"index\" column serving as the de facto \"Date\" column for the transposed dataframe."
   ]
  },
  {
   "cell_type": "code",
   "execution_count": 316,
   "metadata": {},
   "outputs": [],
   "source": [
    "txns = txns.set_index('Description').transpose()\n",
    "txns = txns.reset_index()"
   ]
  },
  {
   "cell_type": "markdown",
   "metadata": {},
   "source": [
    "Appropriately, the 'index' column was renamed to reflect its Date contents"
   ]
  },
  {
   "cell_type": "code",
   "execution_count": 317,
   "metadata": {},
   "outputs": [],
   "source": [
    "txns = txns.rename(columns={'index':'Date'})"
   ]
  },
  {
   "cell_type": "code",
   "execution_count": 318,
   "metadata": {},
   "outputs": [
    {
     "data": {
      "text/plain": [
       "Index([                                                              'Date',\n",
       "                                '    Total Overall Growth (All Industries)',\n",
       "                                                  '    Total Retail Growth',\n",
       "                                                       '    Grocery Stores',\n",
       "                                      '    Men’s and Boy’s Clothing Stores',\n",
       "                                   '    Women’s Accessory/Specialty Stores',\n",
       "                                  '    Children’s and Infant’s Wear Stores',\n",
       "                                               '    Family Clothing Stores',\n",
       "                                 '    Sports Apparel/Riding Apparel Stores',\n",
       "                                    '    Men’s and Women’s Clothing Stores',\n",
       "                                                                '    Other',\n",
       "                             '        Freezer and Locker Meat Provisioners',\n",
       "                                                     '        Candy Stores',\n",
       "                                                         '        Bakeries',\n",
       "              '        Misc. Food Stores, Conv. Stores & Specialty Markets',\n",
       "                                     '        Women’s Ready-to-Wear Stores',\n",
       "                                            '        Floor Covering Stores',\n",
       "                   '        Drapery, Window Covering and Upholstery Stores',\n",
       "                                       '        Household Appliance Stores',\n",
       "                                    '        Eating places and Restaurants',\n",
       "        '        Drinking Places (Alcoholic Bev), Bars, Taverns, Cocktails',\n",
       "                                            '        Fast Food Restaurants',\n",
       "                                       '        Drug Stores and Pharmacies',\n",
       "                          '        Package Stores – Beer, Wine, and Liquor',\n",
       "                           '        Used Merchandise and Secondhand Stores',\n",
       "                                                      '        Book Stores',\n",
       "               '        Stationery Stores, Office and School Supply Stores',\n",
       "                     '        Watch, Clock, Jewelry, and Silverware Stores',\n",
       "                    '        Card Shops, Gift, Novelty, and Souvenir Shops',\n",
       "                                         '        Glassware/Crystal Stores',\n",
       "                                                  '        Cosmetic Stores',\n",
       "                                          '        Cigar Stores and Stands',\n",
       "       '        Lodging – Hotels, Motels, Resorts, Central Reserv Services',\n",
       "            '        Membership Clubs, Country Clubs, Private Golf Courses',\n",
       "                '        Building Material & Garden Equip & Supply Dealers',\n",
       "                  '        Furniture/Home Furnishings/Furnishing Specialty',\n",
       "                                                                        nan,\n",
       "                                                                        nan,\n",
       "                                                               '~~~~~~~~~~'],\n",
       "      dtype='object', name='Description')"
      ]
     },
     "execution_count": 318,
     "metadata": {},
     "output_type": "execute_result"
    }
   ],
   "source": [
    "txns.columns"
   ]
  },
  {
   "cell_type": "markdown",
   "metadata": {},
   "source": [
    "The dataframe's column list revealed three inconsequential columns from transposition. These columns were removed."
   ]
  },
  {
   "cell_type": "code",
   "execution_count": 319,
   "metadata": {},
   "outputs": [],
   "source": [
    "txns = txns.drop(txns.iloc[:,-3:],axis=1)"
   ]
  },
  {
   "cell_type": "markdown",
   "metadata": {},
   "source": [
    "The column list also revealed ample white space in the column names. Such space was removed for ease of data analysis later. "
   ]
  },
  {
   "cell_type": "code",
   "execution_count": 320,
   "metadata": {},
   "outputs": [],
   "source": [
    "txns.columns = txns.columns.str.lstrip()\n",
    "txns.columns = txns.columns.str.rstrip()"
   ]
  },
  {
   "cell_type": "markdown",
   "metadata": {},
   "source": [
    "Datetime format was applied to the Date column, rendering it consistent with other considered dataframes."
   ]
  },
  {
   "cell_type": "code",
   "execution_count": 321,
   "metadata": {},
   "outputs": [],
   "source": [
    "txns['Date'] = pd.to_datetime(txns['Date'],infer_datetime_format=True)"
   ]
  },
  {
   "cell_type": "markdown",
   "metadata": {},
   "source": [
    "Data were sorted by date for ease of reference."
   ]
  },
  {
   "cell_type": "code",
   "execution_count": 322,
   "metadata": {},
   "outputs": [],
   "source": [
    "txns = txns.sort_values(by='Date')"
   ]
  },
  {
   "cell_type": "markdown",
   "metadata": {},
   "source": [
    "#### Merging sentiment, economic, COVID, credit card transaction, and XLY price movement dataframes"
   ]
  },
  {
   "cell_type": "markdown",
   "metadata": {},
   "source": [
    "With all data uploaded and cleaned, a simple lambda function was written to merge the five dataframes. "
   ]
  },
  {
   "cell_type": "code",
   "execution_count": 323,
   "metadata": {},
   "outputs": [],
   "source": [
    "from functools import reduce\n",
    "dfs = [cse, pce, covid_usa, txns, XLY]\n",
    "df_merged = reduce(lambda left,right: pd.merge(left,right,on=['Date'],how='outer'), dfs)\n",
    "df_merged['Date'] = pd.to_datetime(df_merged['Date'],infer_datetime_format=True)\n",
    "df_merged = df_merged.sort_values(by=['Date'])"
   ]
  },
  {
   "cell_type": "markdown",
   "metadata": {},
   "source": [
    "EDA was performed on the merged dataframe. An ample number NaNs were expected in light of the merging of daily and monthly datasets."
   ]
  },
  {
   "cell_type": "code",
   "execution_count": 324,
   "metadata": {},
   "outputs": [
    {
     "data": {
      "text/html": [
       "<div>\n",
       "<style scoped>\n",
       "    .dataframe tbody tr th:only-of-type {\n",
       "        vertical-align: middle;\n",
       "    }\n",
       "\n",
       "    .dataframe tbody tr th {\n",
       "        vertical-align: top;\n",
       "    }\n",
       "\n",
       "    .dataframe thead th {\n",
       "        text-align: right;\n",
       "    }\n",
       "</style>\n",
       "<table border=\"1\" class=\"dataframe\">\n",
       "  <thead>\n",
       "    <tr style=\"text-align: right;\">\n",
       "      <th></th>\n",
       "      <th>Date</th>\n",
       "      <th>Index</th>\n",
       "      <th>PCE Goods</th>\n",
       "      <th>PCE Ex Food &amp; Energy</th>\n",
       "      <th>NewCase</th>\n",
       "      <th>CumCase</th>\n",
       "      <th>NewDeath</th>\n",
       "      <th>CumDeath</th>\n",
       "      <th>Total Overall Growth (All Industries)</th>\n",
       "      <th>Total Retail Growth</th>\n",
       "      <th>...</th>\n",
       "      <th>Watch, Clock, Jewelry, and Silverware Stores</th>\n",
       "      <th>Card Shops, Gift, Novelty, and Souvenir Shops</th>\n",
       "      <th>Glassware/Crystal Stores</th>\n",
       "      <th>Cosmetic Stores</th>\n",
       "      <th>Cigar Stores and Stands</th>\n",
       "      <th>Lodging – Hotels, Motels, Resorts, Central Reserv Services</th>\n",
       "      <th>Membership Clubs, Country Clubs, Private Golf Courses</th>\n",
       "      <th>Building Material &amp; Garden Equip &amp; Supply Dealers</th>\n",
       "      <th>Furniture/Home Furnishings/Furnishing Specialty</th>\n",
       "      <th>Close</th>\n",
       "    </tr>\n",
       "  </thead>\n",
       "  <tbody>\n",
       "    <tr>\n",
       "      <td>0</td>\n",
       "      <td>2010-01-01</td>\n",
       "      <td>74.4</td>\n",
       "      <td>3247.6</td>\n",
       "      <td>8661.9</td>\n",
       "      <td>NaN</td>\n",
       "      <td>NaN</td>\n",
       "      <td>NaN</td>\n",
       "      <td>NaN</td>\n",
       "      <td>NaN</td>\n",
       "      <td>NaN</td>\n",
       "      <td>...</td>\n",
       "      <td>NaN</td>\n",
       "      <td>NaN</td>\n",
       "      <td>NaN</td>\n",
       "      <td>NaN</td>\n",
       "      <td>NaN</td>\n",
       "      <td>NaN</td>\n",
       "      <td>NaN</td>\n",
       "      <td>NaN</td>\n",
       "      <td>NaN</td>\n",
       "      <td>NaN</td>\n",
       "    </tr>\n",
       "    <tr>\n",
       "      <td>261</td>\n",
       "      <td>2010-01-04</td>\n",
       "      <td>NaN</td>\n",
       "      <td>NaN</td>\n",
       "      <td>NaN</td>\n",
       "      <td>NaN</td>\n",
       "      <td>NaN</td>\n",
       "      <td>NaN</td>\n",
       "      <td>NaN</td>\n",
       "      <td>NaN</td>\n",
       "      <td>NaN</td>\n",
       "      <td>...</td>\n",
       "      <td>NaN</td>\n",
       "      <td>NaN</td>\n",
       "      <td>NaN</td>\n",
       "      <td>NaN</td>\n",
       "      <td>NaN</td>\n",
       "      <td>NaN</td>\n",
       "      <td>NaN</td>\n",
       "      <td>NaN</td>\n",
       "      <td>NaN</td>\n",
       "      <td>30.00</td>\n",
       "    </tr>\n",
       "    <tr>\n",
       "      <td>262</td>\n",
       "      <td>2010-01-05</td>\n",
       "      <td>NaN</td>\n",
       "      <td>NaN</td>\n",
       "      <td>NaN</td>\n",
       "      <td>NaN</td>\n",
       "      <td>NaN</td>\n",
       "      <td>NaN</td>\n",
       "      <td>NaN</td>\n",
       "      <td>NaN</td>\n",
       "      <td>NaN</td>\n",
       "      <td>...</td>\n",
       "      <td>NaN</td>\n",
       "      <td>NaN</td>\n",
       "      <td>NaN</td>\n",
       "      <td>NaN</td>\n",
       "      <td>NaN</td>\n",
       "      <td>NaN</td>\n",
       "      <td>NaN</td>\n",
       "      <td>NaN</td>\n",
       "      <td>NaN</td>\n",
       "      <td>30.11</td>\n",
       "    </tr>\n",
       "    <tr>\n",
       "      <td>263</td>\n",
       "      <td>2010-01-06</td>\n",
       "      <td>NaN</td>\n",
       "      <td>NaN</td>\n",
       "      <td>NaN</td>\n",
       "      <td>NaN</td>\n",
       "      <td>NaN</td>\n",
       "      <td>NaN</td>\n",
       "      <td>NaN</td>\n",
       "      <td>NaN</td>\n",
       "      <td>NaN</td>\n",
       "      <td>...</td>\n",
       "      <td>NaN</td>\n",
       "      <td>NaN</td>\n",
       "      <td>NaN</td>\n",
       "      <td>NaN</td>\n",
       "      <td>NaN</td>\n",
       "      <td>NaN</td>\n",
       "      <td>NaN</td>\n",
       "      <td>NaN</td>\n",
       "      <td>NaN</td>\n",
       "      <td>30.15</td>\n",
       "    </tr>\n",
       "    <tr>\n",
       "      <td>264</td>\n",
       "      <td>2010-01-07</td>\n",
       "      <td>NaN</td>\n",
       "      <td>NaN</td>\n",
       "      <td>NaN</td>\n",
       "      <td>NaN</td>\n",
       "      <td>NaN</td>\n",
       "      <td>NaN</td>\n",
       "      <td>NaN</td>\n",
       "      <td>NaN</td>\n",
       "      <td>NaN</td>\n",
       "      <td>...</td>\n",
       "      <td>NaN</td>\n",
       "      <td>NaN</td>\n",
       "      <td>NaN</td>\n",
       "      <td>NaN</td>\n",
       "      <td>NaN</td>\n",
       "      <td>NaN</td>\n",
       "      <td>NaN</td>\n",
       "      <td>NaN</td>\n",
       "      <td>NaN</td>\n",
       "      <td>30.40</td>\n",
       "    </tr>\n",
       "  </tbody>\n",
       "</table>\n",
       "<p>5 rows × 44 columns</p>\n",
       "</div>"
      ],
      "text/plain": [
       "          Date  Index  PCE Goods  PCE Ex Food & Energy  NewCase  CumCase  \\\n",
       "0   2010-01-01   74.4     3247.6                8661.9      NaN      NaN   \n",
       "261 2010-01-04    NaN        NaN                   NaN      NaN      NaN   \n",
       "262 2010-01-05    NaN        NaN                   NaN      NaN      NaN   \n",
       "263 2010-01-06    NaN        NaN                   NaN      NaN      NaN   \n",
       "264 2010-01-07    NaN        NaN                   NaN      NaN      NaN   \n",
       "\n",
       "     NewDeath  CumDeath Total Overall Growth (All Industries)  \\\n",
       "0         NaN       NaN                                   NaN   \n",
       "261       NaN       NaN                                   NaN   \n",
       "262       NaN       NaN                                   NaN   \n",
       "263       NaN       NaN                                   NaN   \n",
       "264       NaN       NaN                                   NaN   \n",
       "\n",
       "    Total Retail Growth  ... Watch, Clock, Jewelry, and Silverware Stores  \\\n",
       "0                   NaN  ...                                          NaN   \n",
       "261                 NaN  ...                                          NaN   \n",
       "262                 NaN  ...                                          NaN   \n",
       "263                 NaN  ...                                          NaN   \n",
       "264                 NaN  ...                                          NaN   \n",
       "\n",
       "    Card Shops, Gift, Novelty, and Souvenir Shops Glassware/Crystal Stores  \\\n",
       "0                                             NaN                      NaN   \n",
       "261                                           NaN                      NaN   \n",
       "262                                           NaN                      NaN   \n",
       "263                                           NaN                      NaN   \n",
       "264                                           NaN                      NaN   \n",
       "\n",
       "    Cosmetic Stores Cigar Stores and Stands  \\\n",
       "0               NaN                     NaN   \n",
       "261             NaN                     NaN   \n",
       "262             NaN                     NaN   \n",
       "263             NaN                     NaN   \n",
       "264             NaN                     NaN   \n",
       "\n",
       "    Lodging – Hotels, Motels, Resorts, Central Reserv Services  \\\n",
       "0                                                  NaN           \n",
       "261                                                NaN           \n",
       "262                                                NaN           \n",
       "263                                                NaN           \n",
       "264                                                NaN           \n",
       "\n",
       "    Membership Clubs, Country Clubs, Private Golf Courses  \\\n",
       "0                                                  NaN      \n",
       "261                                                NaN      \n",
       "262                                                NaN      \n",
       "263                                                NaN      \n",
       "264                                                NaN      \n",
       "\n",
       "    Building Material & Garden Equip & Supply Dealers  \\\n",
       "0                                                 NaN   \n",
       "261                                               NaN   \n",
       "262                                               NaN   \n",
       "263                                               NaN   \n",
       "264                                               NaN   \n",
       "\n",
       "    Furniture/Home Furnishings/Furnishing Specialty  Close  \n",
       "0                                               NaN    NaN  \n",
       "261                                             NaN  30.00  \n",
       "262                                             NaN  30.11  \n",
       "263                                             NaN  30.15  \n",
       "264                                             NaN  30.40  \n",
       "\n",
       "[5 rows x 44 columns]"
      ]
     },
     "execution_count": 324,
     "metadata": {},
     "output_type": "execute_result"
    }
   ],
   "source": [
    "df_merged.head()"
   ]
  },
  {
   "cell_type": "code",
   "execution_count": 325,
   "metadata": {},
   "outputs": [
    {
     "data": {
      "text/plain": [
       "(2716, 44)"
      ]
     },
     "execution_count": 325,
     "metadata": {},
     "output_type": "execute_result"
    }
   ],
   "source": [
    "df_merged.shape"
   ]
  },
  {
   "cell_type": "code",
   "execution_count": 326,
   "metadata": {},
   "outputs": [
    {
     "data": {
      "text/html": [
       "<div>\n",
       "<style scoped>\n",
       "    .dataframe tbody tr th:only-of-type {\n",
       "        vertical-align: middle;\n",
       "    }\n",
       "\n",
       "    .dataframe tbody tr th {\n",
       "        vertical-align: top;\n",
       "    }\n",
       "\n",
       "    .dataframe thead th {\n",
       "        text-align: right;\n",
       "    }\n",
       "</style>\n",
       "<table border=\"1\" class=\"dataframe\">\n",
       "  <thead>\n",
       "    <tr style=\"text-align: right;\">\n",
       "      <th></th>\n",
       "      <th>Index</th>\n",
       "      <th>PCE Goods</th>\n",
       "      <th>PCE Ex Food &amp; Energy</th>\n",
       "      <th>NewCase</th>\n",
       "      <th>CumCase</th>\n",
       "      <th>NewDeath</th>\n",
       "      <th>CumDeath</th>\n",
       "      <th>Close</th>\n",
       "    </tr>\n",
       "  </thead>\n",
       "  <tbody>\n",
       "    <tr>\n",
       "      <td>count</td>\n",
       "      <td>124.000000</td>\n",
       "      <td>124.000000</td>\n",
       "      <td>124.000000</td>\n",
       "      <td>140.000000</td>\n",
       "      <td>1.400000e+02</td>\n",
       "      <td>140.000000</td>\n",
       "      <td>140.000000</td>\n",
       "      <td>2629.000000</td>\n",
       "    </tr>\n",
       "    <tr>\n",
       "      <td>mean</td>\n",
       "      <td>85.655645</td>\n",
       "      <td>3916.267742</td>\n",
       "      <td>10749.693548</td>\n",
       "      <td>13477.100000</td>\n",
       "      <td>5.336677e+05</td>\n",
       "      <td>778.842857</td>\n",
       "      <td>30049.157143</td>\n",
       "      <td>72.914893</td>\n",
       "    </tr>\n",
       "    <tr>\n",
       "      <td>std</td>\n",
       "      <td>11.314781</td>\n",
       "      <td>366.164058</td>\n",
       "      <td>1366.480757</td>\n",
       "      <td>13057.851313</td>\n",
       "      <td>6.470186e+05</td>\n",
       "      <td>1027.038981</td>\n",
       "      <td>38846.303769</td>\n",
       "      <td>28.390506</td>\n",
       "    </tr>\n",
       "    <tr>\n",
       "      <td>min</td>\n",
       "      <td>55.800000</td>\n",
       "      <td>3247.600000</td>\n",
       "      <td>8661.900000</td>\n",
       "      <td>0.000000</td>\n",
       "      <td>1.000000e+00</td>\n",
       "      <td>-514.000000</td>\n",
       "      <td>0.000000</td>\n",
       "      <td>28.590000</td>\n",
       "    </tr>\n",
       "    <tr>\n",
       "      <td>25%</td>\n",
       "      <td>75.250000</td>\n",
       "      <td>3645.025000</td>\n",
       "      <td>9515.950000</td>\n",
       "      <td>0.750000</td>\n",
       "      <td>4.850000e+01</td>\n",
       "      <td>0.000000</td>\n",
       "      <td>0.000000</td>\n",
       "      <td>45.210000</td>\n",
       "    </tr>\n",
       "    <tr>\n",
       "      <td>50%</td>\n",
       "      <td>88.900000</td>\n",
       "      <td>3904.150000</td>\n",
       "      <td>10604.600000</td>\n",
       "      <td>16277.000000</td>\n",
       "      <td>1.129870e+05</td>\n",
       "      <td>278.500000</td>\n",
       "      <td>1890.000000</td>\n",
       "      <td>73.570000</td>\n",
       "    </tr>\n",
       "    <tr>\n",
       "      <td>75%</td>\n",
       "      <td>95.950000</td>\n",
       "      <td>4173.625000</td>\n",
       "      <td>11846.400000</td>\n",
       "      <td>25819.000000</td>\n",
       "      <td>1.101840e+06</td>\n",
       "      <td>1352.000000</td>\n",
       "      <td>67368.500000</td>\n",
       "      <td>91.720000</td>\n",
       "    </tr>\n",
       "    <tr>\n",
       "      <td>max</td>\n",
       "      <td>101.400000</td>\n",
       "      <td>4589.400000</td>\n",
       "      <td>13323.100000</td>\n",
       "      <td>38509.000000</td>\n",
       "      <td>1.886794e+06</td>\n",
       "      <td>6409.000000</td>\n",
       "      <td>109038.000000</td>\n",
       "      <td>133.250000</td>\n",
       "    </tr>\n",
       "  </tbody>\n",
       "</table>\n",
       "</div>"
      ],
      "text/plain": [
       "            Index    PCE Goods  PCE Ex Food & Energy       NewCase  \\\n",
       "count  124.000000   124.000000            124.000000    140.000000   \n",
       "mean    85.655645  3916.267742          10749.693548  13477.100000   \n",
       "std     11.314781   366.164058           1366.480757  13057.851313   \n",
       "min     55.800000  3247.600000           8661.900000      0.000000   \n",
       "25%     75.250000  3645.025000           9515.950000      0.750000   \n",
       "50%     88.900000  3904.150000          10604.600000  16277.000000   \n",
       "75%     95.950000  4173.625000          11846.400000  25819.000000   \n",
       "max    101.400000  4589.400000          13323.100000  38509.000000   \n",
       "\n",
       "            CumCase     NewDeath       CumDeath        Close  \n",
       "count  1.400000e+02   140.000000     140.000000  2629.000000  \n",
       "mean   5.336677e+05   778.842857   30049.157143    72.914893  \n",
       "std    6.470186e+05  1027.038981   38846.303769    28.390506  \n",
       "min    1.000000e+00  -514.000000       0.000000    28.590000  \n",
       "25%    4.850000e+01     0.000000       0.000000    45.210000  \n",
       "50%    1.129870e+05   278.500000    1890.000000    73.570000  \n",
       "75%    1.101840e+06  1352.000000   67368.500000    91.720000  \n",
       "max    1.886794e+06  6409.000000  109038.000000   133.250000  "
      ]
     },
     "execution_count": 326,
     "metadata": {},
     "output_type": "execute_result"
    }
   ],
   "source": [
    "df_merged.describe()"
   ]
  },
  {
   "cell_type": "code",
   "execution_count": 327,
   "metadata": {},
   "outputs": [
    {
     "name": "stdout",
     "output_type": "stream",
     "text": [
      "<class 'pandas.core.frame.DataFrame'>\n",
      "Int64Index: 2716 entries, 0 to 2715\n",
      "Data columns (total 44 columns):\n",
      "Date                                                          2716 non-null datetime64[ns]\n",
      "Index                                                         124 non-null float64\n",
      "PCE Goods                                                     124 non-null float64\n",
      "PCE Ex Food & Energy                                          124 non-null float64\n",
      "NewCase                                                       140 non-null float64\n",
      "CumCase                                                       140 non-null float64\n",
      "NewDeath                                                      140 non-null float64\n",
      "CumDeath                                                      140 non-null float64\n",
      "Total Overall Growth (All Industries)                         11 non-null object\n",
      "Total Retail Growth                                           11 non-null object\n",
      "Grocery Stores                                                11 non-null object\n",
      "Men’s and Boy’s Clothing Stores                               9 non-null object\n",
      "Women’s Accessory/Specialty Stores                            9 non-null object\n",
      "Children’s and Infant’s Wear Stores                           9 non-null object\n",
      "Family Clothing Stores                                        9 non-null object\n",
      "Sports Apparel/Riding Apparel Stores                          9 non-null object\n",
      "Men’s and Women’s Clothing Stores                             9 non-null object\n",
      "Other                                                         0 non-null object\n",
      "Freezer and Locker Meat Provisioners                          11 non-null object\n",
      "Candy Stores                                                  11 non-null object\n",
      "Bakeries                                                      11 non-null object\n",
      "Misc. Food Stores, Conv. Stores & Specialty Markets           11 non-null object\n",
      "Women’s Ready-to-Wear Stores                                  9 non-null object\n",
      "Floor Covering Stores                                         10 non-null object\n",
      "Drapery, Window Covering and Upholstery Stores                11 non-null object\n",
      "Household Appliance Stores                                    11 non-null object\n",
      "Eating places and Restaurants                                 11 non-null object\n",
      "Drinking Places (Alcoholic Bev), Bars, Taverns, Cocktails     11 non-null object\n",
      "Fast Food Restaurants                                         11 non-null object\n",
      "Drug Stores and Pharmacies                                    11 non-null object\n",
      "Package Stores – Beer, Wine, and Liquor                       11 non-null object\n",
      "Used Merchandise and Secondhand Stores                        11 non-null object\n",
      "Book Stores                                                   10 non-null object\n",
      "Stationery Stores, Office and School Supply Stores            11 non-null object\n",
      "Watch, Clock, Jewelry, and Silverware Stores                  11 non-null object\n",
      "Card Shops, Gift, Novelty, and Souvenir Shops                 11 non-null object\n",
      "Glassware/Crystal Stores                                      10 non-null object\n",
      "Cosmetic Stores                                               10 non-null object\n",
      "Cigar Stores and Stands                                       11 non-null object\n",
      "Lodging – Hotels, Motels, Resorts, Central Reserv Services    11 non-null object\n",
      "Membership Clubs, Country Clubs, Private Golf Courses         11 non-null object\n",
      "Building Material & Garden Equip & Supply Dealers             11 non-null object\n",
      "Furniture/Home Furnishings/Furnishing Specialty               11 non-null object\n",
      "Close                                                         2629 non-null float64\n",
      "dtypes: datetime64[ns](1), float64(8), object(35)\n",
      "memory usage: 954.8+ KB\n"
     ]
    }
   ],
   "source": [
    "df_merged.info()"
   ]
  },
  {
   "cell_type": "markdown",
   "metadata": {},
   "source": [
    "EDA revealed 0 non-null values for the dataframe's \"Other\" column, which was accordingly dropped."
   ]
  },
  {
   "cell_type": "code",
   "execution_count": 328,
   "metadata": {},
   "outputs": [],
   "source": [
    "df_merged = df_merged.drop('Other',axis=1)"
   ]
  },
  {
   "cell_type": "markdown",
   "metadata": {},
   "source": [
    "Given the absence of Consumer Sentiment Index, Personal Consumption Expenditure, and payment card spending growth data for June 2020, the merged dataframe was filtered to consider only dates between January 1, 2020 and April 1, 2020, roughly four months of data during the COVID-19 pandemic. In the absence of May data, this limitation circumvents the need for estimation and lends greater credence to observed correlations."
   ]
  },
  {
   "cell_type": "code",
   "execution_count": 329,
   "metadata": {},
   "outputs": [],
   "source": [
    "df_merged = df_merged[(df_merged['Date'] > '2019-12-31') & (df_merged['Date'] < '2020-04-02')]"
   ]
  },
  {
   "cell_type": "code",
   "execution_count": 330,
   "metadata": {},
   "outputs": [
    {
     "data": {
      "text/plain": [
       "(86, 43)"
      ]
     },
     "execution_count": 330,
     "metadata": {},
     "output_type": "execute_result"
    }
   ],
   "source": [
    "df_merged.shape"
   ]
  },
  {
   "cell_type": "markdown",
   "metadata": {},
   "source": [
    "Additionally, the \"Close\" column was renamed to \"XLY Closing Price\" for ease of analysis."
   ]
  },
  {
   "cell_type": "code",
   "execution_count": 331,
   "metadata": {},
   "outputs": [],
   "source": [
    "df_merged = df_merged.rename(columns={'Close':'XLY Closing Price'})"
   ]
  },
  {
   "cell_type": "markdown",
   "metadata": {},
   "source": [
    "Data were sorted by date and reindexed for ease of reference."
   ]
  },
  {
   "cell_type": "code",
   "execution_count": 332,
   "metadata": {},
   "outputs": [],
   "source": [
    "df_merged = df_merged.sort_values(by='Date')\n",
    "df_merged = df_merged.reset_index(drop=True)"
   ]
  },
  {
   "cell_type": "code",
   "execution_count": 333,
   "metadata": {},
   "outputs": [
    {
     "data": {
      "text/plain": [
       "Date                                                          datetime64[ns]\n",
       "Index                                                                float64\n",
       "PCE Goods                                                            float64\n",
       "PCE Ex Food & Energy                                                 float64\n",
       "NewCase                                                              float64\n",
       "CumCase                                                              float64\n",
       "NewDeath                                                             float64\n",
       "CumDeath                                                             float64\n",
       "Total Overall Growth (All Industries)                                 object\n",
       "Total Retail Growth                                                   object\n",
       "Grocery Stores                                                        object\n",
       "Men’s and Boy’s Clothing Stores                                       object\n",
       "Women’s Accessory/Specialty Stores                                    object\n",
       "Children’s and Infant’s Wear Stores                                   object\n",
       "Family Clothing Stores                                                object\n",
       "Sports Apparel/Riding Apparel Stores                                  object\n",
       "Men’s and Women’s Clothing Stores                                     object\n",
       "Freezer and Locker Meat Provisioners                                  object\n",
       "Candy Stores                                                          object\n",
       "Bakeries                                                              object\n",
       "Misc. Food Stores, Conv. Stores & Specialty Markets                   object\n",
       "Women’s Ready-to-Wear Stores                                          object\n",
       "Floor Covering Stores                                                 object\n",
       "Drapery, Window Covering and Upholstery Stores                        object\n",
       "Household Appliance Stores                                            object\n",
       "Eating places and Restaurants                                         object\n",
       "Drinking Places (Alcoholic Bev), Bars, Taverns, Cocktails             object\n",
       "Fast Food Restaurants                                                 object\n",
       "Drug Stores and Pharmacies                                            object\n",
       "Package Stores – Beer, Wine, and Liquor                               object\n",
       "Used Merchandise and Secondhand Stores                                object\n",
       "Book Stores                                                           object\n",
       "Stationery Stores, Office and School Supply Stores                    object\n",
       "Watch, Clock, Jewelry, and Silverware Stores                          object\n",
       "Card Shops, Gift, Novelty, and Souvenir Shops                         object\n",
       "Glassware/Crystal Stores                                              object\n",
       "Cosmetic Stores                                                       object\n",
       "Cigar Stores and Stands                                               object\n",
       "Lodging – Hotels, Motels, Resorts, Central Reserv Services            object\n",
       "Membership Clubs, Country Clubs, Private Golf Courses                 object\n",
       "Building Material & Garden Equip & Supply Dealers                     object\n",
       "Furniture/Home Furnishings/Furnishing Specialty                       object\n",
       "XLY Closing Price                                                    float64\n",
       "dtype: object"
      ]
     },
     "execution_count": 333,
     "metadata": {},
     "output_type": "execute_result"
    }
   ],
   "source": [
    "df_merged.dtypes"
   ]
  },
  {
   "cell_type": "markdown",
   "metadata": {},
   "source": [
    "The enumerated datatypes revealed that payment card spending data were shown as objects. These data were transformed to floats in order to perform linear interpolation and yield daily data between monthly observations."
   ]
  },
  {
   "cell_type": "code",
   "execution_count": 334,
   "metadata": {},
   "outputs": [],
   "source": [
    "df_merged.loc[:,'Index':] = df_merged.loc[:,'Index':].astype(float)"
   ]
  },
  {
   "cell_type": "markdown",
   "metadata": {},
   "source": [
    "#### Perform linear interpolation of monthly data (for linear regression model)"
   ]
  },
  {
   "cell_type": "markdown",
   "metadata": {},
   "source": [
    "Linear interpolation was performed on monthly Consumer Sentiment, Personal Consumption, and payment card growth data, yielding daily values necessary for recursive feature elimination (RFE)."
   ]
  },
  {
   "cell_type": "code",
   "execution_count": 335,
   "metadata": {},
   "outputs": [],
   "source": [
    "df_merged[['Index','PCE Goods', \n",
    "           'PCE Ex Food & Energy']] = df_merged[['Index', \n",
    "                                                 'PCE Goods',\n",
    "                                                 'PCE Ex Food & Energy']].interpolate(method='linear',\n",
    "                                                                                      limit_direction='forward', \n",
    "                                                                                      limit_area='inside',axis=0)\n",
    "df_merged.iloc[:,8:] = df_merged.iloc[:,8:].interpolate(method='linear',\n",
    "                                                        limit_direction='forward',\n",
    "                                                        limit_area='inside',axis=0)"
   ]
  },
  {
   "cell_type": "markdown",
   "metadata": {},
   "source": [
    "Such interpolation left certain NaN values unaddressed. NaNs referring to COVID-19 cases were replaced with zeroes, as certain dates in the dataset preceded WHO recording of COVID-19 cases in the United States."
   ]
  },
  {
   "cell_type": "code",
   "execution_count": 336,
   "metadata": {},
   "outputs": [],
   "source": [
    "df_merged[['NewCase','CumCase','NewDeath','CumDeath']] = df_merged[['NewCase',\n",
    "                                                                    'CumCase',\n",
    "                                                                    'NewDeath',\n",
    "                                                                    'CumDeath']].fillna(0)"
   ]
  },
  {
   "cell_type": "markdown",
   "metadata": {},
   "source": [
    "Columns were examined for any remaining NaN values."
   ]
  },
  {
   "cell_type": "code",
   "execution_count": 337,
   "metadata": {},
   "outputs": [
    {
     "data": {
      "text/plain": [
       "Date                                                           0\n",
       "Index                                                          0\n",
       "PCE Goods                                                      0\n",
       "PCE Ex Food & Energy                                           0\n",
       "NewCase                                                        0\n",
       "CumCase                                                        0\n",
       "NewDeath                                                       0\n",
       "CumDeath                                                       0\n",
       "Total Overall Growth (All Industries)                          0\n",
       "Total Retail Growth                                            0\n",
       "Grocery Stores                                                 0\n",
       "Men’s and Boy’s Clothing Stores                               60\n",
       "Women’s Accessory/Specialty Stores                            60\n",
       "Children’s and Infant’s Wear Stores                           60\n",
       "Family Clothing Stores                                        60\n",
       "Sports Apparel/Riding Apparel Stores                          60\n",
       "Men’s and Women’s Clothing Stores                             60\n",
       "Freezer and Locker Meat Provisioners                           0\n",
       "Candy Stores                                                   0\n",
       "Bakeries                                                       0\n",
       "Misc. Food Stores, Conv. Stores & Specialty Markets            0\n",
       "Women’s Ready-to-Wear Stores                                  60\n",
       "Floor Covering Stores                                          0\n",
       "Drapery, Window Covering and Upholstery Stores                 0\n",
       "Household Appliance Stores                                     0\n",
       "Eating places and Restaurants                                  0\n",
       "Drinking Places (Alcoholic Bev), Bars, Taverns, Cocktails      0\n",
       "Fast Food Restaurants                                          0\n",
       "Drug Stores and Pharmacies                                     0\n",
       "Package Stores – Beer, Wine, and Liquor                        0\n",
       "Used Merchandise and Secondhand Stores                         0\n",
       "Book Stores                                                    0\n",
       "Stationery Stores, Office and School Supply Stores             0\n",
       "Watch, Clock, Jewelry, and Silverware Stores                   0\n",
       "Card Shops, Gift, Novelty, and Souvenir Shops                  0\n",
       "Glassware/Crystal Stores                                       0\n",
       "Cosmetic Stores                                                0\n",
       "Cigar Stores and Stands                                        0\n",
       "Lodging – Hotels, Motels, Resorts, Central Reserv Services     0\n",
       "Membership Clubs, Country Clubs, Private Golf Courses          0\n",
       "Building Material & Garden Equip & Supply Dealers              0\n",
       "Furniture/Home Furnishings/Furnishing Specialty                0\n",
       "XLY Closing Price                                              1\n",
       "dtype: int64"
      ]
     },
     "execution_count": 337,
     "metadata": {},
     "output_type": "execute_result"
    }
   ],
   "source": [
    "df_merged.isnull().sum()"
   ]
  },
  {
   "cell_type": "markdown",
   "metadata": {},
   "source": [
    "Several payment card spending columns were shown to hold frequent NaN values (60 of 86 observations); those columns were dropped."
   ]
  },
  {
   "cell_type": "code",
   "execution_count": 338,
   "metadata": {},
   "outputs": [
    {
     "data": {
      "text/plain": [
       "Index(['Date', 'Index', 'PCE Goods', 'PCE Ex Food & Energy', 'NewCase',\n",
       "       'CumCase', 'NewDeath', 'CumDeath',\n",
       "       'Total Overall Growth (All Industries)', 'Total Retail Growth',\n",
       "       'Grocery Stores', 'Men’s and Boy’s Clothing Stores',\n",
       "       'Women’s Accessory/Specialty Stores',\n",
       "       'Children’s and Infant’s Wear Stores', 'Family Clothing Stores',\n",
       "       'Sports Apparel/Riding Apparel Stores',\n",
       "       'Men’s and Women’s Clothing Stores',\n",
       "       'Freezer and Locker Meat Provisioners', 'Candy Stores', 'Bakeries',\n",
       "       'Misc. Food Stores, Conv. Stores & Specialty Markets',\n",
       "       'Women’s Ready-to-Wear Stores', 'Floor Covering Stores',\n",
       "       'Drapery, Window Covering and Upholstery Stores',\n",
       "       'Household Appliance Stores', 'Eating places and Restaurants',\n",
       "       'Drinking Places (Alcoholic Bev), Bars, Taverns, Cocktails',\n",
       "       'Fast Food Restaurants', 'Drug Stores and Pharmacies',\n",
       "       'Package Stores – Beer, Wine, and Liquor',\n",
       "       'Used Merchandise and Secondhand Stores', 'Book Stores',\n",
       "       'Stationery Stores, Office and School Supply Stores',\n",
       "       'Watch, Clock, Jewelry, and Silverware Stores',\n",
       "       'Card Shops, Gift, Novelty, and Souvenir Shops',\n",
       "       'Glassware/Crystal Stores', 'Cosmetic Stores',\n",
       "       'Cigar Stores and Stands',\n",
       "       'Lodging – Hotels, Motels, Resorts, Central Reserv Services',\n",
       "       'Membership Clubs, Country Clubs, Private Golf Courses',\n",
       "       'Building Material & Garden Equip & Supply Dealers',\n",
       "       'Furniture/Home Furnishings/Furnishing Specialty', 'XLY Closing Price'],\n",
       "      dtype='object')"
      ]
     },
     "execution_count": 338,
     "metadata": {},
     "output_type": "execute_result"
    }
   ],
   "source": [
    "df_merged.columns"
   ]
  },
  {
   "cell_type": "code",
   "execution_count": 339,
   "metadata": {},
   "outputs": [],
   "source": [
    "df_merged = df_merged.drop(['Men’s and Boy’s Clothing Stores',\n",
    "       'Women’s Accessory/Specialty Stores',\n",
    "       'Children’s and Infant’s Wear Stores', 'Family Clothing Stores',\n",
    "       'Sports Apparel/Riding Apparel Stores',\n",
    "       'Men’s and Women’s Clothing Stores','Women’s Ready-to-Wear Stores'],axis=1)"
   ]
  },
  {
   "cell_type": "markdown",
   "metadata": {},
   "source": [
    "Finally, the last NaN value, a closing price for XLY, was populated with the fund's closing price of $125.03 on Decmeber 31, 2019 (public equity markets were not open for the New Year's Day holiday on January 1, 2020)."
   ]
  },
  {
   "cell_type": "code",
   "execution_count": 340,
   "metadata": {},
   "outputs": [],
   "source": [
    "df_merged['XLY Closing Price'] = df_merged['XLY Closing Price'].fillna(125.03)"
   ]
  },
  {
   "cell_type": "markdown",
   "metadata": {},
   "source": [
    "The fully cleaned dataframe is shown below. This dataframe was used to calcualte the Pearson's R-squared."
   ]
  },
  {
   "cell_type": "code",
   "execution_count": 341,
   "metadata": {},
   "outputs": [
    {
     "data": {
      "text/html": [
       "<div>\n",
       "<style scoped>\n",
       "    .dataframe tbody tr th:only-of-type {\n",
       "        vertical-align: middle;\n",
       "    }\n",
       "\n",
       "    .dataframe tbody tr th {\n",
       "        vertical-align: top;\n",
       "    }\n",
       "\n",
       "    .dataframe thead th {\n",
       "        text-align: right;\n",
       "    }\n",
       "</style>\n",
       "<table border=\"1\" class=\"dataframe\">\n",
       "  <thead>\n",
       "    <tr style=\"text-align: right;\">\n",
       "      <th></th>\n",
       "      <th>Date</th>\n",
       "      <th>Index</th>\n",
       "      <th>PCE Goods</th>\n",
       "      <th>PCE Ex Food &amp; Energy</th>\n",
       "      <th>NewCase</th>\n",
       "      <th>CumCase</th>\n",
       "      <th>NewDeath</th>\n",
       "      <th>CumDeath</th>\n",
       "      <th>Total Overall Growth (All Industries)</th>\n",
       "      <th>Total Retail Growth</th>\n",
       "      <th>...</th>\n",
       "      <th>Watch, Clock, Jewelry, and Silverware Stores</th>\n",
       "      <th>Card Shops, Gift, Novelty, and Souvenir Shops</th>\n",
       "      <th>Glassware/Crystal Stores</th>\n",
       "      <th>Cosmetic Stores</th>\n",
       "      <th>Cigar Stores and Stands</th>\n",
       "      <th>Lodging – Hotels, Motels, Resorts, Central Reserv Services</th>\n",
       "      <th>Membership Clubs, Country Clubs, Private Golf Courses</th>\n",
       "      <th>Building Material &amp; Garden Equip &amp; Supply Dealers</th>\n",
       "      <th>Furniture/Home Furnishings/Furnishing Specialty</th>\n",
       "      <th>XLY Closing Price</th>\n",
       "    </tr>\n",
       "  </thead>\n",
       "  <tbody>\n",
       "    <tr>\n",
       "      <td>0</td>\n",
       "      <td>2020-01-01</td>\n",
       "      <td>99.800</td>\n",
       "      <td>4589.400</td>\n",
       "      <td>13296.700</td>\n",
       "      <td>0.0</td>\n",
       "      <td>0.0</td>\n",
       "      <td>0.0</td>\n",
       "      <td>0.0</td>\n",
       "      <td>3.479499</td>\n",
       "      <td>2.322216</td>\n",
       "      <td>...</td>\n",
       "      <td>-1.007015</td>\n",
       "      <td>9.282818</td>\n",
       "      <td>4.880522</td>\n",
       "      <td>4.692826</td>\n",
       "      <td>0.545169</td>\n",
       "      <td>1.168931</td>\n",
       "      <td>0.528914</td>\n",
       "      <td>1.060456</td>\n",
       "      <td>0.845759</td>\n",
       "      <td>125.03</td>\n",
       "    </tr>\n",
       "    <tr>\n",
       "      <td>1</td>\n",
       "      <td>2020-01-02</td>\n",
       "      <td>99.848</td>\n",
       "      <td>4588.484</td>\n",
       "      <td>13297.756</td>\n",
       "      <td>0.0</td>\n",
       "      <td>0.0</td>\n",
       "      <td>0.0</td>\n",
       "      <td>0.0</td>\n",
       "      <td>3.412676</td>\n",
       "      <td>2.284194</td>\n",
       "      <td>...</td>\n",
       "      <td>-1.012712</td>\n",
       "      <td>9.259559</td>\n",
       "      <td>4.485465</td>\n",
       "      <td>4.587923</td>\n",
       "      <td>0.442441</td>\n",
       "      <td>1.087572</td>\n",
       "      <td>0.512360</td>\n",
       "      <td>1.174873</td>\n",
       "      <td>0.805246</td>\n",
       "      <td>126.91</td>\n",
       "    </tr>\n",
       "    <tr>\n",
       "      <td>2</td>\n",
       "      <td>2020-01-03</td>\n",
       "      <td>99.896</td>\n",
       "      <td>4587.568</td>\n",
       "      <td>13298.812</td>\n",
       "      <td>0.0</td>\n",
       "      <td>0.0</td>\n",
       "      <td>0.0</td>\n",
       "      <td>0.0</td>\n",
       "      <td>3.345854</td>\n",
       "      <td>2.246172</td>\n",
       "      <td>...</td>\n",
       "      <td>-1.018410</td>\n",
       "      <td>9.236301</td>\n",
       "      <td>4.090409</td>\n",
       "      <td>4.483020</td>\n",
       "      <td>0.339712</td>\n",
       "      <td>1.006214</td>\n",
       "      <td>0.495806</td>\n",
       "      <td>1.289290</td>\n",
       "      <td>0.764732</td>\n",
       "      <td>125.83</td>\n",
       "    </tr>\n",
       "    <tr>\n",
       "      <td>3</td>\n",
       "      <td>2020-01-06</td>\n",
       "      <td>99.944</td>\n",
       "      <td>4586.652</td>\n",
       "      <td>13299.868</td>\n",
       "      <td>0.0</td>\n",
       "      <td>0.0</td>\n",
       "      <td>0.0</td>\n",
       "      <td>0.0</td>\n",
       "      <td>3.279031</td>\n",
       "      <td>2.208150</td>\n",
       "      <td>...</td>\n",
       "      <td>-1.024107</td>\n",
       "      <td>9.213042</td>\n",
       "      <td>3.695352</td>\n",
       "      <td>4.378116</td>\n",
       "      <td>0.236984</td>\n",
       "      <td>0.924856</td>\n",
       "      <td>0.479252</td>\n",
       "      <td>1.403707</td>\n",
       "      <td>0.724218</td>\n",
       "      <td>126.18</td>\n",
       "    </tr>\n",
       "    <tr>\n",
       "      <td>4</td>\n",
       "      <td>2020-01-07</td>\n",
       "      <td>99.992</td>\n",
       "      <td>4585.736</td>\n",
       "      <td>13300.924</td>\n",
       "      <td>0.0</td>\n",
       "      <td>0.0</td>\n",
       "      <td>0.0</td>\n",
       "      <td>0.0</td>\n",
       "      <td>3.212208</td>\n",
       "      <td>2.170128</td>\n",
       "      <td>...</td>\n",
       "      <td>-1.029804</td>\n",
       "      <td>9.189784</td>\n",
       "      <td>3.300295</td>\n",
       "      <td>4.273213</td>\n",
       "      <td>0.134255</td>\n",
       "      <td>0.843498</td>\n",
       "      <td>0.462699</td>\n",
       "      <td>1.518124</td>\n",
       "      <td>0.683705</td>\n",
       "      <td>125.98</td>\n",
       "    </tr>\n",
       "  </tbody>\n",
       "</table>\n",
       "<p>5 rows × 36 columns</p>\n",
       "</div>"
      ],
      "text/plain": [
       "        Date   Index  PCE Goods  PCE Ex Food & Energy  NewCase  CumCase  \\\n",
       "0 2020-01-01  99.800   4589.400             13296.700      0.0      0.0   \n",
       "1 2020-01-02  99.848   4588.484             13297.756      0.0      0.0   \n",
       "2 2020-01-03  99.896   4587.568             13298.812      0.0      0.0   \n",
       "3 2020-01-06  99.944   4586.652             13299.868      0.0      0.0   \n",
       "4 2020-01-07  99.992   4585.736             13300.924      0.0      0.0   \n",
       "\n",
       "   NewDeath  CumDeath  Total Overall Growth (All Industries)  \\\n",
       "0       0.0       0.0                               3.479499   \n",
       "1       0.0       0.0                               3.412676   \n",
       "2       0.0       0.0                               3.345854   \n",
       "3       0.0       0.0                               3.279031   \n",
       "4       0.0       0.0                               3.212208   \n",
       "\n",
       "   Total Retail Growth  ...  Watch, Clock, Jewelry, and Silverware Stores  \\\n",
       "0             2.322216  ...                                     -1.007015   \n",
       "1             2.284194  ...                                     -1.012712   \n",
       "2             2.246172  ...                                     -1.018410   \n",
       "3             2.208150  ...                                     -1.024107   \n",
       "4             2.170128  ...                                     -1.029804   \n",
       "\n",
       "   Card Shops, Gift, Novelty, and Souvenir Shops  Glassware/Crystal Stores  \\\n",
       "0                                       9.282818                  4.880522   \n",
       "1                                       9.259559                  4.485465   \n",
       "2                                       9.236301                  4.090409   \n",
       "3                                       9.213042                  3.695352   \n",
       "4                                       9.189784                  3.300295   \n",
       "\n",
       "   Cosmetic Stores  Cigar Stores and Stands  \\\n",
       "0         4.692826                 0.545169   \n",
       "1         4.587923                 0.442441   \n",
       "2         4.483020                 0.339712   \n",
       "3         4.378116                 0.236984   \n",
       "4         4.273213                 0.134255   \n",
       "\n",
       "   Lodging – Hotels, Motels, Resorts, Central Reserv Services  \\\n",
       "0                                           1.168931            \n",
       "1                                           1.087572            \n",
       "2                                           1.006214            \n",
       "3                                           0.924856            \n",
       "4                                           0.843498            \n",
       "\n",
       "   Membership Clubs, Country Clubs, Private Golf Courses  \\\n",
       "0                                           0.528914       \n",
       "1                                           0.512360       \n",
       "2                                           0.495806       \n",
       "3                                           0.479252       \n",
       "4                                           0.462699       \n",
       "\n",
       "   Building Material & Garden Equip & Supply Dealers  \\\n",
       "0                                           1.060456   \n",
       "1                                           1.174873   \n",
       "2                                           1.289290   \n",
       "3                                           1.403707   \n",
       "4                                           1.518124   \n",
       "\n",
       "   Furniture/Home Furnishings/Furnishing Specialty  XLY Closing Price  \n",
       "0                                         0.845759             125.03  \n",
       "1                                         0.805246             126.91  \n",
       "2                                         0.764732             125.83  \n",
       "3                                         0.724218             126.18  \n",
       "4                                         0.683705             125.98  \n",
       "\n",
       "[5 rows x 36 columns]"
      ]
     },
     "execution_count": 341,
     "metadata": {},
     "output_type": "execute_result"
    }
   ],
   "source": [
    "df_merged.head()"
   ]
  },
  {
   "cell_type": "markdown",
   "metadata": {},
   "source": [
    "### Define suitable metrics\n",
    "The coefficient of determination, or R-squared, was chosen to determine the strength of relationships among XLY's price movement and consumer sentiment, personal consumption expenditure, COVID-19 cases and credit card transaction growth. The coefficient of determination was used in conjunction with mean absolute error (MAE), mean squared error (MSE) and root mean squared error (RMSE) to determine explanatory variables' predictive value for XLY's price movement.\n",
    "\n",
    "More suitable predictive metrics such as the difference model-predicted stock prices and between actual prices were not avaialble at the time of the study due to lack of available consuemr sentiment, personal consumption expenditure and payment card spending data for June 2020 (precluding linear interpolation of monthly values to daily values between May and June 2020)."
   ]
  },
  {
   "cell_type": "markdown",
   "metadata": {},
   "source": [
    "### Select Modeling Tools"
   ]
  },
  {
   "cell_type": "markdown",
   "metadata": {},
   "source": [
    "#### Run and plot correlations"
   ]
  },
  {
   "cell_type": "markdown",
   "metadata": {},
   "source": [
    "With data interpolated and NaNs eliminated, variables' correlations with XLY's closing price were generated."
   ]
  },
  {
   "cell_type": "code",
   "execution_count": 342,
   "metadata": {},
   "outputs": [
    {
     "name": "stdout",
     "output_type": "stream",
     "text": [
      "NewCase                                                      -0.520642\n",
      "CumCase                                                      -0.512058\n",
      "CumDeath                                                     -0.486226\n",
      "NewDeath                                                     -0.474878\n",
      "Grocery Stores                                               -0.425872\n",
      "Package Stores – Beer, Wine, and Liquor                       0.572820\n",
      "Drug Stores and Pharmacies                                    0.613708\n",
      "Freezer and Locker Meat Provisioners                          0.822314\n",
      "Candy Stores                                                  0.849745\n",
      "Lodging – Hotels, Motels, Resorts, Central Reserv Services    0.850509\n",
      "Glassware/Crystal Stores                                      0.854754\n",
      "Eating places and Restaurants                                 0.856509\n",
      "Fast Food Restaurants                                         0.864380\n",
      "Card Shops, Gift, Novelty, and Souvenir Shops                 0.865906\n",
      "Drinking Places (Alcoholic Bev), Bars, Taverns, Cocktails     0.866459\n",
      "Cosmetic Stores                                               0.868832\n",
      "Bakeries                                                      0.869309\n",
      "Total Overall Growth (All Industries)                         0.870755\n",
      "Book Stores                                                   0.877912\n",
      "Floor Covering Stores                                         0.881799\n",
      "Watch, Clock, Jewelry, and Silverware Stores                  0.882550\n",
      "Total Retail Growth                                           0.882902\n",
      "Cigar Stores and Stands                                       0.885681\n",
      "PCE Ex Food & Energy                                          0.886910\n",
      "Used Merchandise and Secondhand Stores                        0.888504\n",
      "Misc. Food Stores, Conv. Stores & Specialty Markets           0.892862\n",
      "Furniture/Home Furnishings/Furnishing Specialty               0.893859\n",
      "Index                                                         0.894301\n",
      "Drapery, Window Covering and Upholstery Stores                0.901447\n",
      "Membership Clubs, Country Clubs, Private Golf Courses         0.902306\n",
      "PCE Goods                                                     0.904938\n",
      "Stationery Stores, Office and School Supply Stores            0.907487\n",
      "Household Appliance Stores                                    0.911642\n",
      "Building Material & Garden Equip & Supply Dealers             0.914572\n",
      "XLY Closing Price                                             1.000000\n",
      "dtype: float64\n"
     ]
    }
   ],
   "source": [
    "pearson_corr = df_merged.corrwith(df_merged['XLY Closing Price'], method='pearson').sort_values(ascending=True)\n",
    "print(pearson_corr)"
   ]
  },
  {
   "cell_type": "code",
   "execution_count": 343,
   "metadata": {},
   "outputs": [
    {
     "data": {
      "image/png": "[encoded data removed]",
      "text/plain": [
       "<Figure size 720x576 with 1 Axes>"
      ]
     },
     "metadata": {
      "needs_background": "light"
     },
     "output_type": "display_data"
    }
   ],
   "source": [
    "pearson_corr.plot(kind='bar',figsize=(10,8), fontsize=10)\n",
    "plt.title(\"Pairwise Correlations with XLY Closing Price\", fontsize=12)\n",
    "plt.show()"
   ]
  },
  {
   "cell_type": "markdown",
   "metadata": {},
   "source": [
    "The five variables most highly correlated with XLY Closing Price included:\n",
    "- Building Material & Gardent Equipment & Supply Dealer Spend (r = 0.914)\n",
    "- Household Appliance Store Spend (r = 0.911)\n",
    "- Stationary Store, Office and School Supply Store Spend (r = 0.907)\n",
    "- Personal Consumption Expenditure - Goods (r = 0.905)\n",
    "- Membership Club, Country Club, Private Golf Course Spend (r = 0.902)"
   ]
  },
  {
   "cell_type": "markdown",
   "metadata": {},
   "source": [
    "A temporary dataframe lacking the merged dataframe's Date column was then created for the Shapiro-Wilks test of normality."
   ]
  },
  {
   "cell_type": "code",
   "execution_count": 344,
   "metadata": {},
   "outputs": [],
   "source": [
    "df_temp = df_merged.drop(['Date'], axis=1)"
   ]
  },
  {
   "cell_type": "markdown",
   "metadata": {},
   "source": [
    "#### Running Shapiro-Wilks test"
   ]
  },
  {
   "cell_type": "markdown",
   "metadata": {},
   "source": [
    "The Shapiro-Wilks test of normality was run on the temporary dataframe."
   ]
  },
  {
   "cell_type": "code",
   "execution_count": 345,
   "metadata": {},
   "outputs": [],
   "source": [
    "def assert_normality(data):\n",
    "    statistic, pvalue = stats.shapiro(data)\n",
    "    print('Shapiro Stat ' + str(statistic) + \" and p-value \" + str(pvalue))\n",
    "    if pvalue > 0.05:\n",
    "        print(\"Normal\")\n",
    "        return True\n",
    "    else:\n",
    "        print(\"Not normal\")\n",
    "        return False"
   ]
  },
  {
   "cell_type": "code",
   "execution_count": 346,
   "metadata": {},
   "outputs": [
    {
     "name": "stdout",
     "output_type": "stream",
     "text": [
      "Shapiro Stat 0.8687411546707153 and p-value 3.3978241731347225e-07\n",
      "Not normal\n",
      "Shapiro Stat 0.7491947412490845 and p-value 8.207527019132854e-11\n",
      "Not normal\n",
      "Shapiro Stat 0.8691095113754272 and p-value 3.5077914617431816e-07\n",
      "Not normal\n",
      "Shapiro Stat 0.38796842098236084 and p-value 3.2933401995410746e-17\n",
      "Not normal\n",
      "Shapiro Stat 0.41203153133392334 and p-value 6.927768655540635e-17\n",
      "Not normal\n",
      "Shapiro Stat 0.37285155057907104 and p-value 2.087137489382369e-17\n",
      "Not normal\n",
      "Shapiro Stat 0.3919146656990051 and p-value 3.714911475239745e-17\n",
      "Not normal\n",
      "Shapiro Stat 0.8866974711418152 and p-value 1.7129749494415591e-06\n",
      "Not normal\n",
      "Shapiro Stat 0.8768352270126343 and p-value 6.927133426870569e-07\n",
      "Not normal\n",
      "Shapiro Stat 0.9216758608818054 and p-value 6.375121301971376e-05\n",
      "Not normal\n",
      "Shapiro Stat 0.8614902496337891 and p-value 1.8342041130381403e-07\n",
      "Not normal\n",
      "Shapiro Stat 0.8685294389724731 and p-value 3.336265024245222e-07\n",
      "Not normal\n",
      "Shapiro Stat 0.8721795082092285 and p-value 4.5837040829610487e-07\n",
      "Not normal\n",
      "Shapiro Stat 0.8857256770133972 and p-value 1.5637347132724244e-06\n",
      "Not normal\n",
      "Shapiro Stat 0.879241406917572 and p-value 8.605508128312067e-07\n",
      "Not normal\n",
      "Shapiro Stat 0.8648631572723389 and p-value 2.43747962258567e-07\n",
      "Not normal\n",
      "Shapiro Stat 0.8395074009895325 and p-value 3.160457495710034e-08\n",
      "Not normal\n",
      "Shapiro Stat 0.888427734375 and p-value 2.0170134575892007e-06\n",
      "Not normal\n",
      "Shapiro Stat 0.8775546550750732 and p-value 7.389451752715104e-07\n",
      "Not normal\n",
      "Shapiro Stat 0.8760128021240234 and p-value 6.435613499888859e-07\n",
      "Not normal\n",
      "Shapiro Stat 0.923374593257904 and p-value 7.747589552309364e-05\n",
      "Not normal\n",
      "Shapiro Stat 0.9471508860588074 and p-value 0.0015098146395757794\n",
      "Not normal\n",
      "Shapiro Stat 0.8689577579498291 and p-value 3.4620504152371723e-07\n",
      "Not normal\n",
      "Shapiro Stat 0.8753818869590759 and p-value 6.083524795030826e-07\n",
      "Not normal\n",
      "Shapiro Stat 0.8639702796936035 and p-value 2.2598148063934786e-07\n",
      "Not normal\n",
      "Shapiro Stat 0.870505154132843 and p-value 3.9595968814865046e-07\n",
      "Not normal\n",
      "Shapiro Stat 0.8741726875305176 and p-value 5.464113428388373e-07\n",
      "Not normal\n",
      "Shapiro Stat 0.9119457602500916 and p-value 2.16762964555528e-05\n",
      "Not normal\n",
      "Shapiro Stat 0.8841928839683533 and p-value 1.3555300029111095e-06\n",
      "Not normal\n",
      "Shapiro Stat 0.7253140807151794 and p-value 2.1741056871471542e-11\n",
      "Not normal\n",
      "Shapiro Stat 0.8768496513366699 and p-value 6.93612548730016e-07\n",
      "Not normal\n",
      "Shapiro Stat 0.8509865403175354 and p-value 7.762790943388609e-08\n",
      "Not normal\n",
      "Shapiro Stat 0.8549354672431946 and p-value 1.0678148498755036e-07\n",
      "Not normal\n",
      "Shapiro Stat 0.8676049709320068 and p-value 3.080905344177154e-07\n",
      "Not normal\n",
      "Shapiro Stat 0.8190881013870239 and p-value 7.01791025292664e-09\n",
      "Not normal\n"
     ]
    },
    {
     "data": {
      "text/plain": [
       "Index                                                         False\n",
       "PCE Goods                                                     False\n",
       "PCE Ex Food & Energy                                          False\n",
       "NewCase                                                       False\n",
       "CumCase                                                       False\n",
       "NewDeath                                                      False\n",
       "CumDeath                                                      False\n",
       "Total Overall Growth (All Industries)                         False\n",
       "Total Retail Growth                                           False\n",
       "Grocery Stores                                                False\n",
       "Freezer and Locker Meat Provisioners                          False\n",
       "Candy Stores                                                  False\n",
       "Bakeries                                                      False\n",
       "Misc. Food Stores, Conv. Stores & Specialty Markets           False\n",
       "Floor Covering Stores                                         False\n",
       "Drapery, Window Covering and Upholstery Stores                False\n",
       "Household Appliance Stores                                    False\n",
       "Eating places and Restaurants                                 False\n",
       "Drinking Places (Alcoholic Bev), Bars, Taverns, Cocktails     False\n",
       "Fast Food Restaurants                                         False\n",
       "Drug Stores and Pharmacies                                    False\n",
       "Package Stores – Beer, Wine, and Liquor                       False\n",
       "Used Merchandise and Secondhand Stores                        False\n",
       "Book Stores                                                   False\n",
       "Stationery Stores, Office and School Supply Stores            False\n",
       "Watch, Clock, Jewelry, and Silverware Stores                  False\n",
       "Card Shops, Gift, Novelty, and Souvenir Shops                 False\n",
       "Glassware/Crystal Stores                                      False\n",
       "Cosmetic Stores                                               False\n",
       "Cigar Stores and Stands                                       False\n",
       "Lodging – Hotels, Motels, Resorts, Central Reserv Services    False\n",
       "Membership Clubs, Country Clubs, Private Golf Courses         False\n",
       "Building Material & Garden Equip & Supply Dealers             False\n",
       "Furniture/Home Furnishings/Furnishing Specialty               False\n",
       "XLY Closing Price                                             False\n",
       "dtype: bool"
      ]
     },
     "execution_count": 346,
     "metadata": {},
     "output_type": "execute_result"
    }
   ],
   "source": [
    "df_temp.apply(lambda x: assert_normality(x))"
   ]
  },
  {
   "cell_type": "markdown",
   "metadata": {},
   "source": [
    "#### Normalizing all columns prior to RFE"
   ]
  },
  {
   "cell_type": "markdown",
   "metadata": {},
   "source": [
    "Non-normal columns were normalized using the Yeo-Johnson method."
   ]
  },
  {
   "cell_type": "code",
   "execution_count": 347,
   "metadata": {},
   "outputs": [],
   "source": [
    "for column in df_temp.columns:\n",
    "    df_temp[column] = df_temp[column].astype(float) \n",
    "    df_temp[column] = stats.yeojohnson(df_temp[column])[0]"
   ]
  },
  {
   "cell_type": "markdown",
   "metadata": {},
   "source": [
    "The temporary dataframe was renamed to reflect its normalized columns."
   ]
  },
  {
   "cell_type": "code",
   "execution_count": 348,
   "metadata": {},
   "outputs": [],
   "source": [
    "df_norm = df_temp"
   ]
  },
  {
   "cell_type": "markdown",
   "metadata": {},
   "source": [
    "### 3.3 Methods \n",
    "\n",
    "[Back to top](#Table-of-contents)"
   ]
  },
  {
   "cell_type": "markdown",
   "metadata": {},
   "source": [
    "#### Building model: Running RFE"
   ]
  },
  {
   "cell_type": "markdown",
   "metadata": {},
   "source": [
    "Recursive feature elimination (RFE) and linear regression were then used to determine the strongest predictive variables in relationship to XLY's price movement. Consumer Sentiment, Personal Consumption Expenditure and COVID-19 case columns were dropped to ensure rankings among payment card spending variables only."
   ]
  },
  {
   "cell_type": "code",
   "execution_count": 349,
   "metadata": {},
   "outputs": [
    {
     "data": {
      "text/plain": [
       "RFE(estimator=LinearRegression(copy_X=True, fit_intercept=True, n_jobs=None,\n",
       "                               normalize=False),\n",
       "    n_features_to_select=5, step=1, verbose=0)"
      ]
     },
     "execution_count": 349,
     "metadata": {},
     "output_type": "execute_result"
    }
   ],
   "source": [
    "from sklearn import linear_model\n",
    "from sklearn.feature_selection import RFE\n",
    "\n",
    "X = df_norm.drop(['XLY Closing Price','Index','PCE Ex Food & Energy',\n",
    "                  'PCE Goods','NewCase','CumCase','NewDeath','CumDeath'],axis=1)\n",
    "y = df_merged['XLY Closing Price']\n",
    "\n",
    "lr = linear_model.LinearRegression()\n",
    "rfe = RFE(lr, n_features_to_select=5)\n",
    "rfe.fit(X,y)"
   ]
  },
  {
   "cell_type": "markdown",
   "metadata": {},
   "source": [
    "#### Building model: Ranking payment card spending categories"
   ]
  },
  {
   "cell_type": "markdown",
   "metadata": {},
   "source": [
    "RFE-defined features were then ranked."
   ]
  },
  {
   "cell_type": "code",
   "execution_count": 350,
   "metadata": {},
   "outputs": [
    {
     "name": "stdout",
     "output_type": "stream",
     "text": [
      "Features sorted by their rank:\n",
      "[(1, 'Furniture/Home Furnishings/Furnishing Specialty'), (1, 'Lodging – Hotels, Motels, Resorts, Central Reserv Services'), (1, 'Membership Clubs, Country Clubs, Private Golf Courses'), (1, 'Total Overall Growth (All Industries)'), (1, 'Total Retail Growth'), (2, 'Drapery, Window Covering and Upholstery Stores'), (3, 'Drinking Places (Alcoholic Bev), Bars, Taverns, Cocktails'), (4, 'Candy Stores'), (5, 'Misc. Food Stores, Conv. Stores & Specialty Markets'), (6, 'Building Material & Garden Equip & Supply Dealers'), (7, 'Cosmetic Stores'), (8, 'Eating places and Restaurants'), (9, 'Book Stores'), (10, 'Watch, Clock, Jewelry, and Silverware Stores'), (11, 'Grocery Stores'), (12, 'Freezer and Locker Meat Provisioners'), (13, 'Floor Covering Stores'), (14, 'Fast Food Restaurants'), (15, 'Used Merchandise and Secondhand Stores'), (16, 'Household Appliance Stores'), (17, 'Stationery Stores, Office and School Supply Stores'), (18, 'Card Shops, Gift, Novelty, and Souvenir Shops'), (19, 'Glassware/Crystal Stores'), (20, 'Cigar Stores and Stands'), (21, 'Bakeries'), (22, 'Drug Stores and Pharmacies'), (23, 'Package Stores – Beer, Wine, and Liquor')]\n"
     ]
    }
   ],
   "source": [
    "print('Features sorted by their rank:')\n",
    "print(sorted(zip(map(lambda x: round(x,4), rfe.ranking_), X.columns)))"
   ]
  },
  {
   "cell_type": "markdown",
   "metadata": {},
   "source": [
    "The five most predictive payment card spend features were comprised of the following:\n",
    "- Furniture/Home Furnishings/Furnishing Specialty;\n",
    "- Lodging - Hotels, Motels, Resorts, Central Reservation Services; \n",
    "- Membership Clubs, Country Clubs, Private Golf Courses;\n",
    "- Total Overall Growth (All Industries); and\n",
    "- Total Retail (Store) Growth"
   ]
  },
  {
   "cell_type": "markdown",
   "metadata": {},
   "source": [
    "### 3.4 Analysis \n",
    "\n",
    "[Back to top](#Table-of-contents)"
   ]
  },
  {
   "cell_type": "markdown",
   "metadata": {},
   "source": [
    "#### Running model to perform linear regression to predict XLY close: RFE-suggested payment card spending variables"
   ]
  },
  {
   "cell_type": "markdown",
   "metadata": {},
   "source": [
    "The two payment card spending variables suggested by RFE were split into train and test data for a linear regression model."
   ]
  },
  {
   "cell_type": "code",
   "execution_count": 351,
   "metadata": {},
   "outputs": [],
   "source": [
    "X1 = df_norm[['Furniture/Home Furnishings/Furnishing Specialty', 'Lodging – Hotels, Motels, Resorts, Central Reserv Services', 'Membership Clubs, Country Clubs, Private Golf Courses', 'Total Overall Growth (All Industries)', 'Total Retail Growth']]\n",
    "y1 = df_merged['XLY Closing Price']\n",
    "from sklearn.model_selection import train_test_split\n",
    "X_train1,X_test1,y_train1,y_test1 = train_test_split(X1,y1,test_size=0.2,random_state=123)"
   ]
  },
  {
   "cell_type": "markdown",
   "metadata": {},
   "source": [
    "The linear regression model was fitted..."
   ]
  },
  {
   "cell_type": "code",
   "execution_count": 352,
   "metadata": {},
   "outputs": [],
   "source": [
    "lr1 = linear_model.LinearRegression()\n",
    "lr1.fit(X_train1, y_train1)\n",
    "pred1 = lr1.predict(X_test1)"
   ]
  },
  {
   "cell_type": "markdown",
   "metadata": {},
   "source": [
    "...its MAE, MSE and RMSE calculated..."
   ]
  },
  {
   "cell_type": "code",
   "execution_count": 353,
   "metadata": {},
   "outputs": [
    {
     "name": "stdout",
     "output_type": "stream",
     "text": [
      "Payment card spending MAE: 3.6421884159603217\n",
      "Payment card spending MSE: 22.12959187210702\n",
      "Payment card spending RMSE: 4.704210015731337\n"
     ]
    }
   ],
   "source": [
    "from sklearn import metrics\n",
    "print('Payment card spending MAE:', metrics.mean_absolute_error(y_test1, pred1))\n",
    "print('Payment card spending MSE:', metrics.mean_squared_error(y_test1, pred1))\n",
    "print('Payment card spending RMSE:', np.sqrt(metrics.mean_squared_error(y_test1, pred1)))"
   ]
  },
  {
   "cell_type": "markdown",
   "metadata": {},
   "source": [
    "...and its coefficient of determination revealed to be appreciably high (0.90). Simply put, the five payment card spending categories explained 90% of the variability in XLY prices. "
   ]
  },
  {
   "cell_type": "code",
   "execution_count": 354,
   "metadata": {},
   "outputs": [
    {
     "name": "stdout",
     "output_type": "stream",
     "text": [
      "Payment card spending R-squared = 0.9029545440176312\n"
     ]
    }
   ],
   "source": [
    "lr1.score(X_test1, y_test1)\n",
    "print('Payment card spending R-squared =',lr1.score(X_test1,y_test1))"
   ]
  },
  {
   "cell_type": "markdown",
   "metadata": {},
   "source": [
    "#### Running model to perform linear regression to predict XLY close: Sentiment and Personal Consumption Data"
   ]
  },
  {
   "cell_type": "markdown",
   "metadata": {},
   "source": [
    "A second linear regression model was developed for the relationship between consumer sentiment & personal consumption measures and XLY's closing price."
   ]
  },
  {
   "cell_type": "code",
   "execution_count": 355,
   "metadata": {},
   "outputs": [],
   "source": [
    "X2 = df_norm[['Index','PCE Goods','PCE Ex Food & Energy']]\n",
    "y2 = df_merged['XLY Closing Price']\n",
    "X_train2,X_test2,y_train2,y_test2 = train_test_split(X2,y2,test_size=0.2,random_state=123)"
   ]
  },
  {
   "cell_type": "code",
   "execution_count": 356,
   "metadata": {},
   "outputs": [],
   "source": [
    "lr2 = linear_model.LinearRegression()\n",
    "lr2.fit(X_train2, y_train2)\n",
    "pred2 = lr2.predict(X_test2)"
   ]
  },
  {
   "cell_type": "markdown",
   "metadata": {},
   "source": [
    "The model's MAE, MSE and RMSE were revealed..."
   ]
  },
  {
   "cell_type": "code",
   "execution_count": 357,
   "metadata": {},
   "outputs": [
    {
     "name": "stdout",
     "output_type": "stream",
     "text": [
      "Sentiment & Personal Consumption MAE: 5.445435474869029\n",
      "Sentiment & Personal Consumption MSE: 39.43325016952106\n",
      "Sentiment & Personal Consumption RMSE: 6.279589968263936\n"
     ]
    }
   ],
   "source": [
    "print('Sentiment & Personal Consumption MAE:', metrics.mean_absolute_error(y_test2, pred2))\n",
    "print('Sentiment & Personal Consumption MSE:', metrics.mean_squared_error(y_test2, pred2))\n",
    "print('Sentiment & Personal Consumption RMSE:', np.sqrt(metrics.mean_squared_error(y_test2, pred2)))"
   ]
  },
  {
   "cell_type": "markdown",
   "metadata": {},
   "source": [
    "...and its coefficient of determination was shown to be appreciable as well, though not as high as spending data (0.83 vs 0.90)"
   ]
  },
  {
   "cell_type": "code",
   "execution_count": 358,
   "metadata": {},
   "outputs": [
    {
     "name": "stdout",
     "output_type": "stream",
     "text": [
      "Sentiment & Personal Consumption R-squared = 0.8270723759532386\n"
     ]
    }
   ],
   "source": [
    "lr2.score(X_test2, y_test2)\n",
    "print('Sentiment & Personal Consumption R-squared =',lr2.score(X_test2,y_test2))"
   ]
  },
  {
   "cell_type": "markdown",
   "metadata": {},
   "source": [
    "#### Running model to perform linear regression to predict XLY close: COVID-19 Data"
   ]
  },
  {
   "cell_type": "markdown",
   "metadata": {},
   "source": [
    "Finally, a third model was developed regarding cumulative COVID-19 cases in the United States and the XLY's closing price."
   ]
  },
  {
   "cell_type": "code",
   "execution_count": 359,
   "metadata": {},
   "outputs": [],
   "source": [
    "X3 = df_norm[['NewCase','CumCase','NewDeath','CumDeath']]\n",
    "y3 = df_merged['XLY Closing Price']\n",
    "X_train3,X_test3,y_train3,y_test3 = train_test_split(X3,y3,test_size=0.2,random_state=123)"
   ]
  },
  {
   "cell_type": "code",
   "execution_count": 360,
   "metadata": {},
   "outputs": [],
   "source": [
    "lr3 = linear_model.LinearRegression()\n",
    "lr3.fit(X_train3, y_train3)\n",
    "pred3 = lr3.predict(X_test3)"
   ]
  },
  {
   "cell_type": "code",
   "execution_count": 361,
   "metadata": {},
   "outputs": [
    {
     "name": "stdout",
     "output_type": "stream",
     "text": [
      "COVID-19 cases MAE: 4.953272670333084\n",
      "COVID-19 cases MSE: 36.04191884511902\n",
      "COVID-19 cases RMSE: 6.003492220792746\n"
     ]
    }
   ],
   "source": [
    "print('COVID-19 cases MAE:', metrics.mean_absolute_error(y_test3, pred3))\n",
    "print('COVID-19 cases MSE:', metrics.mean_squared_error(y_test3, pred3))\n",
    "print('COVID-19 cases RMSE:', np.sqrt(metrics.mean_squared_error(y_test3, pred3)))"
   ]
  },
  {
   "cell_type": "markdown",
   "metadata": {},
   "source": [
    "Unexpectedly, the model's coefficient of determination fell below that of the model concerning payment card spending growth (0.84 vs 0.90)."
   ]
  },
  {
   "cell_type": "code",
   "execution_count": 362,
   "metadata": {},
   "outputs": [
    {
     "name": "stdout",
     "output_type": "stream",
     "text": [
      "COVID-19 cases R-squared = 0.8419444665306844\n"
     ]
    }
   ],
   "source": [
    "lr3.score(X_test3, y_test3)\n",
    "print('COVID-19 cases R-squared =',lr3.score(X_test3,y_test3))"
   ]
  },
  {
   "cell_type": "markdown",
   "metadata": {},
   "source": [
    "### 3.5 Results \n",
    "\n",
    "[Back to top](#Table-of-contents)"
   ]
  },
  {
   "cell_type": "markdown",
   "metadata": {},
   "source": [
    "Linear regression confirmed the study's first hypothesis that payment card spending would better predict consumer discretionary equity price variability than would consumer sentiment and personal consumption measures. It also rejected the second hypothesis, that COVID-19 case data would better explain such variability. The study failed, however, to detect whether such differences hold any value in predicting stocks, as such validating predictions could not be completed due to the lack of availabile several consumer sentiment, personal consumption expenditure and payment card spending data series (May data have not yet been published at the time of this study), and available historical data do not reflect COVID-19. Payment card spending regression's relatively small RMSE suggests its model could best predict future XLY equity prices. However, the relatively high coefficients of determination for all three models (all at least 0.80) could suggest a degree of model overfitting, potentially limiting the model's utiltiy in stock price prediction."
   ]
  },
  {
   "cell_type": "markdown",
   "metadata": {},
   "source": [
    "## Conclusion\n",
    "\n",
    "The study suggests that consumer sentiment, personal consumption, payment card spending and COVID-19 cases all hold utility in predicting XLY price movements during the COVID-19 pandemic. More importantly, the model's utility could improve after future publication of the University of Michigan's Consumer Sentiment Index and Federal Reserve of St. Louis Personal Consumption data (for May and June 2020), as the measures may have captured changes in US consumer psyche and aggregate spending patterns. \n",
    "\n",
    "[Back to top](#Table-of-contents)"
   ]
  },
  {
   "cell_type": "markdown",
   "metadata": {},
   "source": [
    "## References\n",
    "\n",
    "COVID-19 cases: https://data.humdata.org/dataset/novel-coronavirus-2019-ncov-cases\n",
    "\n",
    "University of Michigan Consumer Sentiment Index: https://data.sca.isr.umich.edu/\n",
    "\n",
    "Federal Reserve Bank of St. Louis: https://research.stlouisfed.org/ssi/search.php?q=personal%20consumption%20expenditure%20monthly\n",
    "\n",
    "COVID-19 Cases: https://data.humdata.org/dataset/novel-coronavirus-2019-ncov-cases\n",
    "\n",
    "[Back to top](#Table-of-contents)"
   ]
  },
  {
   "cell_type": "code",
   "execution_count": null,
   "metadata": {},
   "outputs": [],
   "source": []
  }
 ],
 "metadata": {
  "kernelspec": {
   "display_name": "Python 3",
   "language": "python",
   "name": "python3"
  },
  "language_info": {
   "codemirror_mode": {
    "name": "ipython",
    "version": 3
   },
   "file_extension": ".py",
   "mimetype": "text/x-python",
   "name": "python",
   "nbconvert_exporter": "python",
   "pygments_lexer": "ipython3",
   "version": "3.7.4"
  }
 },
 "nbformat": 4,
 "nbformat_minor": 4
}
